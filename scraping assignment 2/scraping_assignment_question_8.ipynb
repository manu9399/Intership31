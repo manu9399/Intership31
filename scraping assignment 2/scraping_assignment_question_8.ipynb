{
 "cells": [
  {
   "cell_type": "code",
   "execution_count": null,
   "id": "38033132",
   "metadata": {},
   "outputs": [],
   "source": [
    "#Q8: Go to webpage https://www.amazon.in/\n",
    "#Enter “Laptop” in the search field and then click the search icon.\n",
    "#Then set CPU Type filter to “Intel Core i7” as shown in the below image:\n",
    "#After setting the filters scrape first 10 laptops data. You have to scrape 3 attributesfor each laptop:\n",
    "#1. Title\n",
    "#2. Ratings\n",
    "#3. Price"
   ]
  },
  {
   "cell_type": "code",
   "execution_count": 1,
   "id": "aa7b3fae",
   "metadata": {},
   "outputs": [],
   "source": [
    "import selenium\n",
    "import pandas as pd \n",
    "from selenium import webdriver\n",
    "import warnings\n",
    "warnings.filterwarnings('ignore')\n",
    "from selenium.common.exceptions import StaleElementReferenceException, NoSuchElementException\n",
    "from selenium.webdriver.common.by import By\n",
    "import time"
   ]
  },
  {
   "cell_type": "code",
   "execution_count": 2,
   "id": "37caa781",
   "metadata": {},
   "outputs": [],
   "source": [
    "driver=webdriver.Chrome(r\"F:\\flip robo\\chromedriver.exe\")"
   ]
  },
  {
   "cell_type": "code",
   "execution_count": 3,
   "id": "63323b89",
   "metadata": {},
   "outputs": [],
   "source": [
    "driver.get(\"http://www.amazon.in/\")"
   ]
  },
  {
   "cell_type": "code",
   "execution_count": 7,
   "id": "f38e19d2",
   "metadata": {},
   "outputs": [],
   "source": [
    "product=driver.find_element(By.ID,\"twotabsearchtextbox\")\n",
    "product.send_keys('laptop')"
   ]
  },
  {
   "cell_type": "code",
   "execution_count": 10,
   "id": "30c4c7db",
   "metadata": {},
   "outputs": [],
   "source": [
    "search=driver.find_element(By.ID,\"nav-search-submit-button\")\n",
    "search.click()"
   ]
  },
  {
   "cell_type": "code",
   "execution_count": 11,
   "id": "803564a1",
   "metadata": {},
   "outputs": [],
   "source": [
    "core=driver.find_element(By.XPATH,\"/html/body/div[1]/div[2]/div[1]/div[2]/div/div[3]/span/div[1]/div/div/div[5]/ul[4]/li[12]/span/a/div/label/i\")\n",
    "core.click()"
   ]
  },
  {
   "cell_type": "code",
   "execution_count": 12,
   "id": "e4ef6de0",
   "metadata": {},
   "outputs": [],
   "source": [
    "laptop_title=[]\n",
    "laptop_ratings=[]\n",
    "laptop_price=[]"
   ]
  },
  {
   "cell_type": "code",
   "execution_count": 14,
   "id": "fe8c73ad",
   "metadata": {},
   "outputs": [],
   "source": [
    "#scraping laptop title from the given page\n",
    "title_tags=driver.find_elements(By.XPATH,'//span[@class=\"a-size-medium a-color-base a-text-normal\"]')\n",
    "for i in title_tags[0:10]:\n",
    "    title=i.text\n",
    "    laptop_title.append(title)\n",
    "    \n",
    "\n",
    "    "
   ]
  },
  {
   "cell_type": "code",
   "execution_count": 15,
   "id": "e32af2a4",
   "metadata": {},
   "outputs": [
    {
     "data": {
      "text/plain": [
       "10"
      ]
     },
     "execution_count": 15,
     "metadata": {},
     "output_type": "execute_result"
    }
   ],
   "source": [
    "len(laptop_title)"
   ]
  },
  {
   "cell_type": "code",
   "execution_count": 16,
   "id": "07be4c3f",
   "metadata": {},
   "outputs": [],
   "source": [
    "#scraping laptop ratings from the given page\n",
    "ratings_tags=driver.find_elements(By.XPATH,'//i[@class=\"a-icon a-icon-star-small a-star-small-4-5 aok-align-bottom\"]')\n",
    "for i in ratings_tags[0:10]:\n",
    "    ratings=i.text\n",
    "    laptop_ratings.append(title)"
   ]
  },
  {
   "cell_type": "code",
   "execution_count": 17,
   "id": "fb0fdc2e",
   "metadata": {},
   "outputs": [
    {
     "data": {
      "text/plain": [
       "10"
      ]
     },
     "execution_count": 17,
     "metadata": {},
     "output_type": "execute_result"
    }
   ],
   "source": [
    "len(laptop_ratings)"
   ]
  },
  {
   "cell_type": "code",
   "execution_count": 18,
   "id": "b75650c8",
   "metadata": {},
   "outputs": [],
   "source": [
    "#scraping laptop ratings from the given page\n",
    "price_tags=driver.find_elements(By.XPATH,'//span[@class=\"a-price-whole\"]')\n",
    "for i in price_tags[0:10]:\n",
    "    price=i.text\n",
    "    laptop_price.append(title)"
   ]
  },
  {
   "cell_type": "code",
   "execution_count": 19,
   "id": "d589cf78",
   "metadata": {},
   "outputs": [
    {
     "data": {
      "text/plain": [
       "10"
      ]
     },
     "execution_count": 19,
     "metadata": {},
     "output_type": "execute_result"
    }
   ],
   "source": [
    "len(laptop_price)"
   ]
  },
  {
   "cell_type": "code",
   "execution_count": 20,
   "id": "cacd0971",
   "metadata": {},
   "outputs": [
    {
     "name": "stdout",
     "output_type": "stream",
     "text": [
      "10 10 10\n"
     ]
    }
   ],
   "source": [
    "print(len(laptop_title),len(laptop_ratings),len(laptop_price))"
   ]
  },
  {
   "cell_type": "code",
   "execution_count": 21,
   "id": "af31d2ac",
   "metadata": {},
   "outputs": [
    {
     "data": {
      "text/html": [
       "<div>\n",
       "<style scoped>\n",
       "    .dataframe tbody tr th:only-of-type {\n",
       "        vertical-align: middle;\n",
       "    }\n",
       "\n",
       "    .dataframe tbody tr th {\n",
       "        vertical-align: top;\n",
       "    }\n",
       "\n",
       "    .dataframe thead th {\n",
       "        text-align: right;\n",
       "    }\n",
       "</style>\n",
       "<table border=\"1\" class=\"dataframe\">\n",
       "  <thead>\n",
       "    <tr style=\"text-align: right;\">\n",
       "      <th></th>\n",
       "      <th>laptop_title</th>\n",
       "      <th>laptop_ratings</th>\n",
       "      <th>laptop_price</th>\n",
       "    </tr>\n",
       "  </thead>\n",
       "  <tbody>\n",
       "    <tr>\n",
       "      <th>0</th>\n",
       "      <td>Lenovo Yoga 7i 11th Gen Intel Core i7-1165G7 1...</td>\n",
       "      <td>DELL Alienware x14 Gaming Laptop, Intel i7-127...</td>\n",
       "      <td>DELL Alienware x14 Gaming Laptop, Intel i7-127...</td>\n",
       "    </tr>\n",
       "    <tr>\n",
       "      <th>1</th>\n",
       "      <td>Lenovo IdeaPad Slim 5 Intel Core i7 12th Gen 1...</td>\n",
       "      <td>DELL Alienware x14 Gaming Laptop, Intel i7-127...</td>\n",
       "      <td>DELL Alienware x14 Gaming Laptop, Intel i7-127...</td>\n",
       "    </tr>\n",
       "    <tr>\n",
       "      <th>2</th>\n",
       "      <td>HP Victus 11th Gen Intel Core i7-11800H 16.1\" ...</td>\n",
       "      <td>DELL Alienware x14 Gaming Laptop, Intel i7-127...</td>\n",
       "      <td>DELL Alienware x14 Gaming Laptop, Intel i7-127...</td>\n",
       "    </tr>\n",
       "    <tr>\n",
       "      <th>3</th>\n",
       "      <td>Lenovo Ideapad Gaming 3 Intel Core i7 10th Gen...</td>\n",
       "      <td>DELL Alienware x14 Gaming Laptop, Intel i7-127...</td>\n",
       "      <td>DELL Alienware x14 Gaming Laptop, Intel i7-127...</td>\n",
       "    </tr>\n",
       "    <tr>\n",
       "      <th>4</th>\n",
       "      <td>(Renewed) Lenovo Intel Core i7 5600U 12.5-Inch...</td>\n",
       "      <td>DELL Alienware x14 Gaming Laptop, Intel i7-127...</td>\n",
       "      <td>DELL Alienware x14 Gaming Laptop, Intel i7-127...</td>\n",
       "    </tr>\n",
       "    <tr>\n",
       "      <th>5</th>\n",
       "      <td>HP Pavilion 11th Gen Intel Core i7 15.6 inches...</td>\n",
       "      <td>DELL Alienware x14 Gaming Laptop, Intel i7-127...</td>\n",
       "      <td>DELL Alienware x14 Gaming Laptop, Intel i7-127...</td>\n",
       "    </tr>\n",
       "    <tr>\n",
       "      <th>6</th>\n",
       "      <td>Lenovo ThinkBook 15 Intel 11th Gen Core i7 15....</td>\n",
       "      <td>DELL Alienware x14 Gaming Laptop, Intel i7-127...</td>\n",
       "      <td>DELL Alienware x14 Gaming Laptop, Intel i7-127...</td>\n",
       "    </tr>\n",
       "    <tr>\n",
       "      <th>7</th>\n",
       "      <td>ASUS Vivobook 15, 15.6-inch (39.62 cms) FHD, I...</td>\n",
       "      <td>DELL Alienware x14 Gaming Laptop, Intel i7-127...</td>\n",
       "      <td>DELL Alienware x14 Gaming Laptop, Intel i7-127...</td>\n",
       "    </tr>\n",
       "    <tr>\n",
       "      <th>8</th>\n",
       "      <td>Hp Pavilion X360 11Th Gen Intel Core I7 14 Inc...</td>\n",
       "      <td>DELL Alienware x14 Gaming Laptop, Intel i7-127...</td>\n",
       "      <td>DELL Alienware x14 Gaming Laptop, Intel i7-127...</td>\n",
       "    </tr>\n",
       "    <tr>\n",
       "      <th>9</th>\n",
       "      <td>DELL Alienware x14 Gaming Laptop, Intel i7-127...</td>\n",
       "      <td>DELL Alienware x14 Gaming Laptop, Intel i7-127...</td>\n",
       "      <td>DELL Alienware x14 Gaming Laptop, Intel i7-127...</td>\n",
       "    </tr>\n",
       "  </tbody>\n",
       "</table>\n",
       "</div>"
      ],
      "text/plain": [
       "                                        laptop_title  \\\n",
       "0  Lenovo Yoga 7i 11th Gen Intel Core i7-1165G7 1...   \n",
       "1  Lenovo IdeaPad Slim 5 Intel Core i7 12th Gen 1...   \n",
       "2  HP Victus 11th Gen Intel Core i7-11800H 16.1\" ...   \n",
       "3  Lenovo Ideapad Gaming 3 Intel Core i7 10th Gen...   \n",
       "4  (Renewed) Lenovo Intel Core i7 5600U 12.5-Inch...   \n",
       "5  HP Pavilion 11th Gen Intel Core i7 15.6 inches...   \n",
       "6  Lenovo ThinkBook 15 Intel 11th Gen Core i7 15....   \n",
       "7  ASUS Vivobook 15, 15.6-inch (39.62 cms) FHD, I...   \n",
       "8  Hp Pavilion X360 11Th Gen Intel Core I7 14 Inc...   \n",
       "9  DELL Alienware x14 Gaming Laptop, Intel i7-127...   \n",
       "\n",
       "                                      laptop_ratings  \\\n",
       "0  DELL Alienware x14 Gaming Laptop, Intel i7-127...   \n",
       "1  DELL Alienware x14 Gaming Laptop, Intel i7-127...   \n",
       "2  DELL Alienware x14 Gaming Laptop, Intel i7-127...   \n",
       "3  DELL Alienware x14 Gaming Laptop, Intel i7-127...   \n",
       "4  DELL Alienware x14 Gaming Laptop, Intel i7-127...   \n",
       "5  DELL Alienware x14 Gaming Laptop, Intel i7-127...   \n",
       "6  DELL Alienware x14 Gaming Laptop, Intel i7-127...   \n",
       "7  DELL Alienware x14 Gaming Laptop, Intel i7-127...   \n",
       "8  DELL Alienware x14 Gaming Laptop, Intel i7-127...   \n",
       "9  DELL Alienware x14 Gaming Laptop, Intel i7-127...   \n",
       "\n",
       "                                        laptop_price  \n",
       "0  DELL Alienware x14 Gaming Laptop, Intel i7-127...  \n",
       "1  DELL Alienware x14 Gaming Laptop, Intel i7-127...  \n",
       "2  DELL Alienware x14 Gaming Laptop, Intel i7-127...  \n",
       "3  DELL Alienware x14 Gaming Laptop, Intel i7-127...  \n",
       "4  DELL Alienware x14 Gaming Laptop, Intel i7-127...  \n",
       "5  DELL Alienware x14 Gaming Laptop, Intel i7-127...  \n",
       "6  DELL Alienware x14 Gaming Laptop, Intel i7-127...  \n",
       "7  DELL Alienware x14 Gaming Laptop, Intel i7-127...  \n",
       "8  DELL Alienware x14 Gaming Laptop, Intel i7-127...  \n",
       "9  DELL Alienware x14 Gaming Laptop, Intel i7-127...  "
      ]
     },
     "execution_count": 21,
     "metadata": {},
     "output_type": "execute_result"
    }
   ],
   "source": [
    "#creating dataframe\n",
    "df=pd.DataFrame({'laptop_title':laptop_title,'laptop_ratings':laptop_ratings,'laptop_price':laptop_price})\n",
    "df"
   ]
  },
  {
   "cell_type": "code",
   "execution_count": null,
   "id": "9e7c77d7",
   "metadata": {},
   "outputs": [],
   "source": []
  }
 ],
 "metadata": {
  "kernelspec": {
   "display_name": "Python 3 (ipykernel)",
   "language": "python",
   "name": "python3"
  },
  "language_info": {
   "codemirror_mode": {
    "name": "ipython",
    "version": 3
   },
   "file_extension": ".py",
   "mimetype": "text/x-python",
   "name": "python",
   "nbconvert_exporter": "python",
   "pygments_lexer": "ipython3",
   "version": "3.9.12"
  }
 },
 "nbformat": 4,
 "nbformat_minor": 5
}
