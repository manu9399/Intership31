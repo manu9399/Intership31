{
 "cells": [
  {
   "cell_type": "code",
   "execution_count": null,
   "id": "7182cc9d",
   "metadata": {},
   "outputs": [],
   "source": [
    "Write a program to scrap details of all the funding deals for second quarter (i.e Jan 21 – March 21)\n",
    "from trak.in."
   ]
  },
  {
   "cell_type": "code",
   "execution_count": 1,
   "id": "81eba48c",
   "metadata": {},
   "outputs": [],
   "source": [
    "import selenium\n",
    "import pandas as pd \n",
    "from selenium import webdriver\n",
    "import warnings\n",
    "warnings.filterwarnings('ignore')\n",
    "from selenium.common.exceptions import StaleElementReferenceException, NoSuchElementException\n",
    "from selenium.webdriver.common.by import By\n",
    "import time\n",
    "import requests\n",
    "import re"
   ]
  },
  {
   "cell_type": "code",
   "execution_count": 2,
   "id": "c1da9a0b",
   "metadata": {},
   "outputs": [],
   "source": [
    "driver=webdriver.Chrome(r\"F:\\flip robo\\chromedriver.exe\")"
   ]
  },
  {
   "cell_type": "code",
   "execution_count": 4,
   "id": "ec233915",
   "metadata": {},
   "outputs": [],
   "source": [
    "driver.get(\"https://trak.in/\")\n",
    "time.sleep(2)"
   ]
  },
  {
   "cell_type": "code",
   "execution_count": 5,
   "id": "e62d07b2",
   "metadata": {},
   "outputs": [],
   "source": [
    "button = driver.find_element(By.XPATH,'//li[@id=\"menu-item-51510\"]/a').get_attribute('href')\n",
    "driver.get(button)"
   ]
  },
  {
   "cell_type": "code",
   "execution_count": 6,
   "id": "9c14ef62",
   "metadata": {},
   "outputs": [],
   "source": [
    "# Empty lists\n",
    "fund_dict = {}\n",
    "fund_dict['Date'] = []\n",
    "fund_dict['Startup Name'] = []\n",
    "fund_dict['Industry/Vertical'] = []\n",
    "fund_dict['Sub-Vertical'] = []\n",
    "fund_dict['Location'] = []\n",
    "fund_dict['Investor'] = []\n",
    "fund_dict['Investment Type'] = []\n",
    "fund_dict['Amount(in USD)'] = []\n"
   ]
  },
  {
   "cell_type": "code",
   "execution_count": 7,
   "id": "b0d3e79d",
   "metadata": {},
   "outputs": [],
   "source": [
    "for i in range(54,57):\n",
    "    # Date\n",
    "    dt = driver.find_elements(By.XPATH,'//table[@id=\"tablepress-{}\"]/tbody/tr/td[2]'.format(i))\n",
    "    for d in dt:\n",
    "        fund_dict['Date'].append(d.text)"
   ]
  },
  {
   "cell_type": "code",
   "execution_count": 9,
   "id": "cb5e1cd3",
   "metadata": {},
   "outputs": [],
   "source": [
    " # Startup Name\n",
    "sn = driver.find_elements(By.XPATH,'//table[@id=\"tablepress-{}\"]/tbody/tr/td[3]'.format(i))\n",
    "for n in sn:\n",
    "    fund_dict['Startup Name'].append(n.text)"
   ]
  },
  {
   "cell_type": "code",
   "execution_count": 10,
   "id": "294cb84b",
   "metadata": {},
   "outputs": [],
   "source": [
    "# Industry/Vertical\n",
    "ind = driver.find_elements(By.XPATH,'//table[@id=\"tablepress-{}\"]/tbody/tr/td[4]'.format(i))\n",
    "for n in ind:\n",
    "    fund_dict['Industry/Vertical'].append(n.text)"
   ]
  },
  {
   "cell_type": "code",
   "execution_count": 11,
   "id": "820122b1",
   "metadata": {},
   "outputs": [],
   "source": [
    "  # Sub-Vertical\n",
    "sv = driver.find_elements(By.XPATH,'//table[@id=\"tablepress-{}\"]/tbody/tr/td[5]'.format(i))\n",
    "for s in sv:\n",
    "    fund_dict['Sub-Vertical'].append(s.text)"
   ]
  },
  {
   "cell_type": "code",
   "execution_count": 12,
   "id": "36fcecbb",
   "metadata": {},
   "outputs": [],
   "source": [
    "# Location\n",
    "loc = driver.find_elements(By.XPATH,'//table[@id=\"tablepress-{}\"]/tbody/tr/td[6]'.format(i))\n",
    "for l in loc:\n",
    "    fund_dict['Location'].append(l.text)\n",
    "    "
   ]
  },
  {
   "cell_type": "code",
   "execution_count": 13,
   "id": "349221b7",
   "metadata": {},
   "outputs": [],
   "source": [
    "# Investor\n",
    "inv = driver.find_elements(By.XPATH,'//table[@id=\"tablepress-{}\"]/tbody/tr/td[7]'.format(i))\n",
    "for n in inv:\n",
    "    fund_dict['Investor'].append(n.text)"
   ]
  },
  {
   "cell_type": "code",
   "execution_count": 14,
   "id": "4c483131",
   "metadata": {},
   "outputs": [],
   "source": [
    "# Investment Type\n",
    "invt = driver.find_elements(By.XPATH,'//table[@id=\"tablepress-{}\"]/tbody/tr/td[8]'.format(i))\n",
    "for n in invt:\n",
    "    fund_dict['Investment Type'].append(n.text)\n",
    "    "
   ]
  },
  {
   "cell_type": "code",
   "execution_count": 15,
   "id": "567c87bc",
   "metadata": {},
   "outputs": [],
   "source": [
    "# Amount\n",
    "amt = driver.find_elements(By.XPATH,'//table[@id=\"tablepress-{}\"]/tbody/tr/td[9]'.format(i))\n",
    "for a in amt:\n",
    "    fund_dict['Amount(in USD)'].append(a.text)\n",
    "    "
   ]
  },
  {
   "cell_type": "code",
   "execution_count": null,
   "id": "736f8a39",
   "metadata": {},
   "outputs": [],
   "source": []
  }
 ],
 "metadata": {
  "kernelspec": {
   "display_name": "Python 3 (ipykernel)",
   "language": "python",
   "name": "python3"
  },
  "language_info": {
   "codemirror_mode": {
    "name": "ipython",
    "version": 3
   },
   "file_extension": ".py",
   "mimetype": "text/x-python",
   "name": "python",
   "nbconvert_exporter": "python",
   "pygments_lexer": "ipython3",
   "version": "3.9.12"
  }
 },
 "nbformat": 4,
 "nbformat_minor": 5
}
