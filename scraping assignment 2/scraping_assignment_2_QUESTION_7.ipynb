{
 "cells": [
  {
   "cell_type": "code",
   "execution_count": null,
   "id": "8f4741aa",
   "metadata": {},
   "outputs": [],
   "source": []
  },
  {
   "cell_type": "code",
   "execution_count": 1,
   "id": "387d6430",
   "metadata": {},
   "outputs": [],
   "source": [
    "import selenium\n",
    "import pandas as pd \n",
    "from selenium import webdriver\n",
    "import warnings\n",
    "warnings.filterwarnings('ignore')\n",
    "from selenium.common.exceptions import StaleElementReferenceException, NoSuchElementException\n",
    "from selenium.webdriver.common.by import By\n",
    "import time"
   ]
  },
  {
   "cell_type": "code",
   "execution_count": 2,
   "id": "e38a1f7d",
   "metadata": {},
   "outputs": [],
   "source": [
    "driver=webdriver.Chrome(r\"F:\\flip robo\\chromedriver.exe\")"
   ]
  },
  {
   "cell_type": "code",
   "execution_count": 3,
   "id": "9763d35b",
   "metadata": {},
   "outputs": [],
   "source": [
    "driver.get(\"http://www.myntra.com\")"
   ]
  },
  {
   "cell_type": "code",
   "execution_count": 4,
   "id": "1fb7e867",
   "metadata": {},
   "outputs": [],
   "source": [
    "product=driver.find_element(By.CLASS_NAME,\"desktop-searchBar\")\n",
    "product.send_keys('shoes')"
   ]
  },
  {
   "cell_type": "code",
   "execution_count": 5,
   "id": "f7c49439",
   "metadata": {},
   "outputs": [],
   "source": [
    "search=driver.find_element(By.CLASS_NAME,\"desktop-submit\")\n",
    "search.click()"
   ]
  },
  {
   "cell_type": "code",
   "execution_count": 6,
   "id": "b43954f0",
   "metadata": {},
   "outputs": [],
   "source": [
    "price=driver.find_element(By.XPATH,\"/html/body/div[2]/div/div[1]/main/div[3]/div[1]/section/div/div[5]/ul/li[2]/label\")\n",
    "price.click()"
   ]
  },
  {
   "cell_type": "code",
   "execution_count": 7,
   "id": "61eacd56",
   "metadata": {},
   "outputs": [],
   "source": [
    "color=driver.find_element(By.XPATH,\"/html/body/div[2]/div/div[1]/main/div[3]/div[1]/section/div/div[6]/ul/li[1]/label\")\n",
    "color.click()"
   ]
  },
  {
   "cell_type": "code",
   "execution_count": 8,
   "id": "eb74d7b6",
   "metadata": {},
   "outputs": [],
   "source": [
    "shoes_brand=[]\n",
    "product_discription=[]\n",
    "shoes_price=[]\n"
   ]
  },
  {
   "cell_type": "code",
   "execution_count": 9,
   "id": "295ed9e3",
   "metadata": {},
   "outputs": [],
   "source": [
    "#scraping shoes brand from the given page\n",
    "start=0\n",
    "end=4\n",
    "for page in range(start,end):\n",
    "    brand=driver.find_elements(By.XPATH,'//h3[@class=\"product-brand\"]')\n",
    "    for i in brand[0:25]:\n",
    "        shoes_brand.append(i.text)\n",
    "    next_button=driver.find_element(By.XPATH,'//li[@class=\"pagination-next\"]')\n",
    "    next_button.click()\n",
    "    time.sleep(3)\n",
    "    \n",
    "    \n",
    "    \n",
    "    "
   ]
  },
  {
   "cell_type": "code",
   "execution_count": 10,
   "id": "61d088c1",
   "metadata": {},
   "outputs": [
    {
     "data": {
      "text/plain": [
       "100"
      ]
     },
     "execution_count": 10,
     "metadata": {},
     "output_type": "execute_result"
    }
   ],
   "source": [
    "len(shoes_brand)"
   ]
  },
  {
   "cell_type": "code",
   "execution_count": 11,
   "id": "a21719d4",
   "metadata": {},
   "outputs": [],
   "source": [
    "#scraping product discription from the given page\n",
    "start=0\n",
    "end=4\n",
    "for page in range(start,end):\n",
    "    discription=driver.find_elements(By.XPATH,'//h4[@class=\"product-product\"]')\n",
    "    for i in discription[0:25]:\n",
    "        product_discription.append(i.text)\n",
    "    next_button=driver.find_element(By.XPATH,'//li[@class=\"pagination-next\"]')\n",
    "    next_button.click()\n",
    "    time.sleep(3)\n",
    "    \n",
    "    \n",
    "    \n",
    "    "
   ]
  },
  {
   "cell_type": "code",
   "execution_count": 12,
   "id": "c4bb10d9",
   "metadata": {},
   "outputs": [
    {
     "data": {
      "text/plain": [
       "100"
      ]
     },
     "execution_count": 12,
     "metadata": {},
     "output_type": "execute_result"
    }
   ],
   "source": [
    "len(product_discription)"
   ]
  },
  {
   "cell_type": "code",
   "execution_count": 13,
   "id": "820a4fbe",
   "metadata": {},
   "outputs": [],
   "source": [
    "#scraping shoes price from the given page\n",
    "start=0\n",
    "end=4\n",
    "for page in range(start,end):\n",
    "    price=driver.find_elements(By.XPATH,'//div[@class=\"product-price\"]')\n",
    "    for i in price[0:25]:\n",
    "        shoes_price.append(i.text)\n",
    "    next_button=driver.find_element(By.XPATH,'//li[@class=\"pagination-next\"]')\n",
    "    next_button.click()\n",
    "    time.sleep(3)\n",
    "    \n",
    "    \n",
    "    \n",
    "    "
   ]
  },
  {
   "cell_type": "code",
   "execution_count": 15,
   "id": "0f245299",
   "metadata": {},
   "outputs": [
    {
     "data": {
      "text/plain": [
       "100"
      ]
     },
     "execution_count": 15,
     "metadata": {},
     "output_type": "execute_result"
    }
   ],
   "source": [
    "len(shoes_price)"
   ]
  },
  {
   "cell_type": "code",
   "execution_count": 16,
   "id": "820638eb",
   "metadata": {},
   "outputs": [
    {
     "name": "stdout",
     "output_type": "stream",
     "text": [
      "100 100 100\n"
     ]
    }
   ],
   "source": [
    "print(len(shoes_brand),len(product_discription),len(shoes_price))"
   ]
  },
  {
   "cell_type": "code",
   "execution_count": 17,
   "id": "2128c0a1",
   "metadata": {},
   "outputs": [
    {
     "data": {
      "text/html": [
       "<div>\n",
       "<style scoped>\n",
       "    .dataframe tbody tr th:only-of-type {\n",
       "        vertical-align: middle;\n",
       "    }\n",
       "\n",
       "    .dataframe tbody tr th {\n",
       "        vertical-align: top;\n",
       "    }\n",
       "\n",
       "    .dataframe thead th {\n",
       "        text-align: right;\n",
       "    }\n",
       "</style>\n",
       "<table border=\"1\" class=\"dataframe\">\n",
       "  <thead>\n",
       "    <tr style=\"text-align: right;\">\n",
       "      <th></th>\n",
       "      <th>shoes_brand</th>\n",
       "      <th>product_discription</th>\n",
       "      <th>shoes_price</th>\n",
       "    </tr>\n",
       "  </thead>\n",
       "  <tbody>\n",
       "    <tr>\n",
       "      <th>0</th>\n",
       "      <td>Nike</td>\n",
       "      <td>Men Golf Shoes</td>\n",
       "      <td>Rs. 7199Rs. 11999(40% OFF)</td>\n",
       "    </tr>\n",
       "    <tr>\n",
       "      <th>1</th>\n",
       "      <td>Puma</td>\n",
       "      <td>Kitten Pumps Heels</td>\n",
       "      <td>Rs. 10490</td>\n",
       "    </tr>\n",
       "    <tr>\n",
       "      <th>2</th>\n",
       "      <td>ADIDAS Originals</td>\n",
       "      <td>Women Suede Chelsea Boot</td>\n",
       "      <td>Rs. 8499</td>\n",
       "    </tr>\n",
       "    <tr>\n",
       "      <th>3</th>\n",
       "      <td>Nike</td>\n",
       "      <td>Women Leather Sneakers</td>\n",
       "      <td>Rs. 13999</td>\n",
       "    </tr>\n",
       "    <tr>\n",
       "      <th>4</th>\n",
       "      <td>Skechers</td>\n",
       "      <td>Women Leather Sneakers</td>\n",
       "      <td>Rs. 13775Rs. 14500(5% OFF)</td>\n",
       "    </tr>\n",
       "    <tr>\n",
       "      <th>...</th>\n",
       "      <td>...</td>\n",
       "      <td>...</td>\n",
       "      <td>...</td>\n",
       "    </tr>\n",
       "    <tr>\n",
       "      <th>95</th>\n",
       "      <td>Tommy Hilfiger</td>\n",
       "      <td>Men Leather Sneakers</td>\n",
       "      <td>Rs. 9749Rs. 14999(35% OFF)</td>\n",
       "    </tr>\n",
       "    <tr>\n",
       "      <th>96</th>\n",
       "      <td>Tommy Hilfiger</td>\n",
       "      <td>Men GEL-Nimbus 24 Running</td>\n",
       "      <td>Rs. 8920Rs. 10495(15% OFF)</td>\n",
       "    </tr>\n",
       "    <tr>\n",
       "      <th>97</th>\n",
       "      <td>ADIDAS</td>\n",
       "      <td>Men GEL-Kayano 28 Run Shoes</td>\n",
       "      <td>Rs. 7372Rs. 10099(27% OFF)</td>\n",
       "    </tr>\n",
       "    <tr>\n",
       "      <th>98</th>\n",
       "      <td>Tommy Hilfiger</td>\n",
       "      <td>Gary Black Unisex Casual Shoes</td>\n",
       "      <td>Rs. 9999</td>\n",
       "    </tr>\n",
       "    <tr>\n",
       "      <th>99</th>\n",
       "      <td>Puma</td>\n",
       "      <td>Women Party Stiletto Pumps</td>\n",
       "      <td>Rs. 9899Rs. 10999(10% OFF)</td>\n",
       "    </tr>\n",
       "  </tbody>\n",
       "</table>\n",
       "<p>100 rows × 3 columns</p>\n",
       "</div>"
      ],
      "text/plain": [
       "         shoes_brand             product_discription  \\\n",
       "0               Nike                  Men Golf Shoes   \n",
       "1               Puma              Kitten Pumps Heels   \n",
       "2   ADIDAS Originals        Women Suede Chelsea Boot   \n",
       "3               Nike          Women Leather Sneakers   \n",
       "4           Skechers          Women Leather Sneakers   \n",
       "..               ...                             ...   \n",
       "95    Tommy Hilfiger            Men Leather Sneakers   \n",
       "96    Tommy Hilfiger       Men GEL-Nimbus 24 Running   \n",
       "97            ADIDAS     Men GEL-Kayano 28 Run Shoes   \n",
       "98    Tommy Hilfiger  Gary Black Unisex Casual Shoes   \n",
       "99              Puma      Women Party Stiletto Pumps   \n",
       "\n",
       "                   shoes_price  \n",
       "0   Rs. 7199Rs. 11999(40% OFF)  \n",
       "1                    Rs. 10490  \n",
       "2                     Rs. 8499  \n",
       "3                    Rs. 13999  \n",
       "4   Rs. 13775Rs. 14500(5% OFF)  \n",
       "..                         ...  \n",
       "95  Rs. 9749Rs. 14999(35% OFF)  \n",
       "96  Rs. 8920Rs. 10495(15% OFF)  \n",
       "97  Rs. 7372Rs. 10099(27% OFF)  \n",
       "98                    Rs. 9999  \n",
       "99  Rs. 9899Rs. 10999(10% OFF)  \n",
       "\n",
       "[100 rows x 3 columns]"
      ]
     },
     "execution_count": 17,
     "metadata": {},
     "output_type": "execute_result"
    }
   ],
   "source": [
    "#creating dataframe\n",
    "df=pd.DataFrame({'shoes_brand':shoes_brand,'product_discription':product_discription,'shoes_price':shoes_price})\n",
    "df"
   ]
  },
  {
   "cell_type": "code",
   "execution_count": null,
   "id": "8a6e49c3",
   "metadata": {},
   "outputs": [],
   "source": []
  }
 ],
 "metadata": {
  "kernelspec": {
   "display_name": "Python 3 (ipykernel)",
   "language": "python",
   "name": "python3"
  },
  "language_info": {
   "codemirror_mode": {
    "name": "ipython",
    "version": 3
   },
   "file_extension": ".py",
   "mimetype": "text/x-python",
   "name": "python",
   "nbconvert_exporter": "python",
   "pygments_lexer": "ipython3",
   "version": "3.9.12"
  }
 },
 "nbformat": 4,
 "nbformat_minor": 5
}
