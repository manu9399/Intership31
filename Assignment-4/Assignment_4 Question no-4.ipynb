{
 "cells": [
  {
   "cell_type": "code",
   "execution_count": null,
   "id": "1621ccb5",
   "metadata": {},
   "outputs": [],
   "source": []
  },
  {
   "cell_type": "code",
   "execution_count": 29,
   "id": "c2b0e730",
   "metadata": {},
   "outputs": [],
   "source": [
    "import selenium\n",
    "import pandas as pd \n",
    "from selenium import webdriver\n",
    "import warnings\n",
    "warnings.filterwarnings('ignore')\n",
    "from selenium.common.exceptions import StaleElementReferenceException, NoSuchElementException\n",
    "from selenium.webdriver.common.by import By\n",
    "import time\n",
    "import requests\n",
    "from bs4 import BeautifulSoup\n"
   ]
  },
  {
   "cell_type": "code",
   "execution_count": 2,
   "id": "c65b048e",
   "metadata": {},
   "outputs": [],
   "source": [
    "driver=webdriver.Chrome(r\"F:\\flip robo\\chromedriver.exe\")"
   ]
  },
  {
   "cell_type": "code",
   "execution_count": 3,
   "id": "804e8e48",
   "metadata": {},
   "outputs": [],
   "source": [
    "driver.get(\"http://statisticstimes.com/\")"
   ]
  },
  {
   "cell_type": "code",
   "execution_count": 8,
   "id": "d9b720d7",
   "metadata": {},
   "outputs": [],
   "source": [
    "search=driver.find_element(By.XPATH,\"/html/body/div[2]/div[1]/div[2]/div[2]/button\")\n",
    "search.click()"
   ]
  },
  {
   "cell_type": "code",
   "execution_count": 9,
   "id": "2b5ad88b",
   "metadata": {},
   "outputs": [],
   "source": [
    "india=driver.find_element(By.XPATH,\"/html/body/div[2]/div[1]/div[2]/div[2]/div/a[3]\")\n",
    "india.click()"
   ]
  },
  {
   "cell_type": "code",
   "execution_count": 12,
   "id": "93be3fd5",
   "metadata": {},
   "outputs": [],
   "source": [
    "gdp=driver.find_element(By.XPATH,\"/html/body/div[2]/div[2]/div[2]/ul/li[1]/a\")\n",
    "gdp.click()"
   ]
  },
  {
   "cell_type": "code",
   "execution_count": 13,
   "id": "ec1f147e",
   "metadata": {},
   "outputs": [],
   "source": [
    "#scraping rank from the given page\n",
    "rank_title=[]\n",
    "\n",
    "title_tags=driver.find_elements(By.XPATH,'//td[@class=\"data1\"]')\n",
    "for i in title_tags[0:33]:\n",
    "    title=i.text\n",
    "    rank_title.append(title)\n",
    "    "
   ]
  },
  {
   "cell_type": "code",
   "execution_count": 14,
   "id": "c35e5e50",
   "metadata": {},
   "outputs": [
    {
     "data": {
      "text/plain": [
       "33"
      ]
     },
     "execution_count": 14,
     "metadata": {},
     "output_type": "execute_result"
    }
   ],
   "source": [
    "len(rank_title)"
   ]
  },
  {
   "cell_type": "code",
   "execution_count": 15,
   "id": "0ce2c086",
   "metadata": {},
   "outputs": [
    {
     "data": {
      "text/plain": [
       "['1',\n",
       " '2',\n",
       " '3',\n",
       " '4',\n",
       " '5',\n",
       " '6',\n",
       " '7',\n",
       " '8',\n",
       " '9',\n",
       " '10',\n",
       " '11',\n",
       " '12',\n",
       " '13',\n",
       " '14',\n",
       " '15',\n",
       " '16',\n",
       " '17',\n",
       " '18',\n",
       " '19',\n",
       " '20',\n",
       " '21',\n",
       " '22',\n",
       " '23',\n",
       " '24',\n",
       " '25',\n",
       " '26',\n",
       " '27',\n",
       " '28',\n",
       " '29',\n",
       " '30',\n",
       " '31',\n",
       " '32',\n",
       " '33']"
      ]
     },
     "execution_count": 15,
     "metadata": {},
     "output_type": "execute_result"
    }
   ],
   "source": [
    "rank_title"
   ]
  },
  {
   "cell_type": "code",
   "execution_count": 16,
   "id": "74380c8f",
   "metadata": {},
   "outputs": [],
   "source": [
    "#scraping rank from the given page\n",
    "state_name=[]\n",
    "\n",
    "name_tags=driver.find_elements(By.XPATH,'//td[@class=\"name\"]')\n",
    "for i in name_tags[0:33]:\n",
    "    name=i.text\n",
    "    state_name.append(name)"
   ]
  },
  {
   "cell_type": "code",
   "execution_count": 17,
   "id": "239d34e6",
   "metadata": {},
   "outputs": [
    {
     "data": {
      "text/plain": [
       "['Maharashtra',\n",
       " 'Tamil Nadu',\n",
       " 'Uttar Pradesh',\n",
       " 'Gujarat',\n",
       " 'Karnataka',\n",
       " 'West Bengal',\n",
       " 'Rajasthan',\n",
       " 'Andhra Pradesh',\n",
       " 'Telangana',\n",
       " 'Madhya Pradesh',\n",
       " 'Kerala',\n",
       " 'Delhi',\n",
       " 'Haryana',\n",
       " 'Bihar',\n",
       " 'Punjab',\n",
       " 'Odisha',\n",
       " 'Assam',\n",
       " 'Chhattisgarh',\n",
       " 'Jharkhand',\n",
       " 'Uttarakhand',\n",
       " 'Jammu & Kashmir',\n",
       " 'Himachal Pradesh',\n",
       " 'Goa',\n",
       " 'Tripura',\n",
       " 'Chandigarh',\n",
       " 'Puducherry',\n",
       " 'Meghalaya',\n",
       " 'Sikkim',\n",
       " 'Manipur',\n",
       " 'Nagaland',\n",
       " 'Arunachal Pradesh',\n",
       " 'Mizoram',\n",
       " 'Andaman & Nicobar Islands']"
      ]
     },
     "execution_count": 17,
     "metadata": {},
     "output_type": "execute_result"
    }
   ],
   "source": [
    "state_name"
   ]
  },
  {
   "cell_type": "code",
   "execution_count": 18,
   "id": "b9d5e68e",
   "metadata": {},
   "outputs": [
    {
     "data": {
      "text/plain": [
       "33"
      ]
     },
     "execution_count": 18,
     "metadata": {},
     "output_type": "execute_result"
    }
   ],
   "source": [
    "len(state_name)"
   ]
  },
  {
   "cell_type": "code",
   "execution_count": 33,
   "id": "438d4079",
   "metadata": {},
   "outputs": [],
   "source": [
    "#scraping GSDP(19-20) from the given page\n",
    "GSDP_price=[]\n",
    "\n",
    "price_tags=driver.find_elements(By.XPATH,'//td[@class=\"data\"]')\n",
    "for i in price_tags[0:33]:\n",
    "    price=i.text\n",
    "    GSDP_price.append(price)"
   ]
  },
  {
   "cell_type": "code",
   "execution_count": 34,
   "id": "ea874282",
   "metadata": {},
   "outputs": [
    {
     "data": {
      "text/plain": [
       "33"
      ]
     },
     "execution_count": 34,
     "metadata": {},
     "output_type": "execute_result"
    }
   ],
   "source": [
    "len(GSDP_price)"
   ]
  },
  {
   "cell_type": "code",
   "execution_count": 35,
   "id": "626d4c5f",
   "metadata": {},
   "outputs": [],
   "source": [
    "#scraping GSDP(18-19) from the given page\n",
    "GSDP_prices=[]\n",
    "\n",
    "prices_tags=driver.find_elements(By.XPATH,'//td[@class=\"data sorting_1\"]')\n",
    "for i in prices_tags[0:33]:\n",
    "    prices=i.text\n",
    "    GSDP_prices.append(prices)"
   ]
  },
  {
   "cell_type": "code",
   "execution_count": 36,
   "id": "2a52b98b",
   "metadata": {},
   "outputs": [
    {
     "data": {
      "text/plain": [
       "['2,632,792',\n",
       " '1,630,208',\n",
       " '1,584,764',\n",
       " '1,502,899',\n",
       " '1,493,127',\n",
       " '1,089,898',\n",
       " '942,586',\n",
       " '862,957',\n",
       " '861,031',\n",
       " '809,592',\n",
       " '781,653',\n",
       " '774,870',\n",
       " '734,163',\n",
       " '530,363',\n",
       " '526,376',\n",
       " '487,805',\n",
       " '315,881',\n",
       " '304,063',\n",
       " '297,204',\n",
       " '245,895',\n",
       " '155,956',\n",
       " '153,845',\n",
       " '73,170',\n",
       " '49,845',\n",
       " '42,114',\n",
       " '34,433',\n",
       " '33,481',\n",
       " '28,723',\n",
       " '27,870',\n",
       " '27,283',\n",
       " '24,603',\n",
       " '22,287',\n",
       " '-']"
      ]
     },
     "execution_count": 36,
     "metadata": {},
     "output_type": "execute_result"
    }
   ],
   "source": [
    "GSDP_prices"
   ]
  },
  {
   "cell_type": "code",
   "execution_count": 37,
   "id": "fc6c9002",
   "metadata": {},
   "outputs": [
    {
     "data": {
      "text/plain": [
       "33"
      ]
     },
     "execution_count": 37,
     "metadata": {},
     "output_type": "execute_result"
    }
   ],
   "source": [
    "len(GSDP_prices)"
   ]
  },
  {
   "cell_type": "code",
   "execution_count": 38,
   "id": "05bd19a5",
   "metadata": {},
   "outputs": [],
   "source": [
    "#scraping Share(18-19) from the given page\n",
    "Share_percent=[]\n",
    "\n",
    "percent_tags=driver.find_elements(By.XPATH,'//td[@class=\"data\"]')\n",
    "for i in percent_tags[0:33]:\n",
    "    percent=i.text\n",
    "    Share_percent.append(percent)"
   ]
  },
  {
   "cell_type": "code",
   "execution_count": 39,
   "id": "6379f4c6",
   "metadata": {},
   "outputs": [
    {
     "data": {
      "text/plain": [
       "33"
      ]
     },
     "execution_count": 39,
     "metadata": {},
     "output_type": "execute_result"
    }
   ],
   "source": [
    "len(Share_percent)"
   ]
  },
  {
   "cell_type": "code",
   "execution_count": 40,
   "id": "a36f1a10",
   "metadata": {},
   "outputs": [],
   "source": [
    "#scraping Share(18-19) from the given page\n",
    "GDP_RS=[]\n",
    "\n",
    "RS_tags=driver.find_elements(By.XPATH,'//td[@class=\"data\"]')\n",
    "for i in RS_tags[0:33]:\n",
    "    RS=i.text\n",
    "    GDP_RS.append(RS)"
   ]
  },
  {
   "cell_type": "code",
   "execution_count": 41,
   "id": "540ca502",
   "metadata": {},
   "outputs": [
    {
     "data": {
      "text/plain": [
       "33"
      ]
     },
     "execution_count": 41,
     "metadata": {},
     "output_type": "execute_result"
    }
   ],
   "source": [
    "len(GDP_RS)"
   ]
  },
  {
   "cell_type": "code",
   "execution_count": 43,
   "id": "66bafc47",
   "metadata": {},
   "outputs": [
    {
     "data": {
      "text/html": [
       "<div>\n",
       "<style scoped>\n",
       "    .dataframe tbody tr th:only-of-type {\n",
       "        vertical-align: middle;\n",
       "    }\n",
       "\n",
       "    .dataframe tbody tr th {\n",
       "        vertical-align: top;\n",
       "    }\n",
       "\n",
       "    .dataframe thead th {\n",
       "        text-align: right;\n",
       "    }\n",
       "</style>\n",
       "<table border=\"1\" class=\"dataframe\">\n",
       "  <thead>\n",
       "    <tr style=\"text-align: right;\">\n",
       "      <th></th>\n",
       "      <th>rank_title</th>\n",
       "      <th>state_name</th>\n",
       "      <th>GSDP_price</th>\n",
       "      <th>GSDP_prices</th>\n",
       "      <th>Share_percent</th>\n",
       "      <th>GDP_RS</th>\n",
       "    </tr>\n",
       "  </thead>\n",
       "  <tbody>\n",
       "    <tr>\n",
       "      <th>0</th>\n",
       "      <td>1</td>\n",
       "      <td>Maharashtra</td>\n",
       "      <td>-</td>\n",
       "      <td>2,632,792</td>\n",
       "      <td>-</td>\n",
       "      <td>-</td>\n",
       "    </tr>\n",
       "    <tr>\n",
       "      <th>1</th>\n",
       "      <td>2</td>\n",
       "      <td>Tamil Nadu</td>\n",
       "      <td>13.94%</td>\n",
       "      <td>1,630,208</td>\n",
       "      <td>13.94%</td>\n",
       "      <td>13.94%</td>\n",
       "    </tr>\n",
       "    <tr>\n",
       "      <th>2</th>\n",
       "      <td>3</td>\n",
       "      <td>Uttar Pradesh</td>\n",
       "      <td>399.921</td>\n",
       "      <td>1,584,764</td>\n",
       "      <td>399.921</td>\n",
       "      <td>399.921</td>\n",
       "    </tr>\n",
       "    <tr>\n",
       "      <th>3</th>\n",
       "      <td>4</td>\n",
       "      <td>Gujarat</td>\n",
       "      <td>-</td>\n",
       "      <td>1,502,899</td>\n",
       "      <td>-</td>\n",
       "      <td>-</td>\n",
       "    </tr>\n",
       "    <tr>\n",
       "      <th>4</th>\n",
       "      <td>5</td>\n",
       "      <td>Karnataka</td>\n",
       "      <td>2,039,074</td>\n",
       "      <td>1,493,127</td>\n",
       "      <td>2,039,074</td>\n",
       "      <td>2,039,074</td>\n",
       "    </tr>\n",
       "    <tr>\n",
       "      <th>5</th>\n",
       "      <td>6</td>\n",
       "      <td>West Bengal</td>\n",
       "      <td>1,845,853</td>\n",
       "      <td>1,089,898</td>\n",
       "      <td>1,845,853</td>\n",
       "      <td>1,845,853</td>\n",
       "    </tr>\n",
       "    <tr>\n",
       "      <th>6</th>\n",
       "      <td>7</td>\n",
       "      <td>Rajasthan</td>\n",
       "      <td>8.63%</td>\n",
       "      <td>942,586</td>\n",
       "      <td>8.63%</td>\n",
       "      <td>8.63%</td>\n",
       "    </tr>\n",
       "    <tr>\n",
       "      <th>7</th>\n",
       "      <td>8</td>\n",
       "      <td>Andhra Pradesh</td>\n",
       "      <td>247.629</td>\n",
       "      <td>862,957</td>\n",
       "      <td>247.629</td>\n",
       "      <td>247.629</td>\n",
       "    </tr>\n",
       "    <tr>\n",
       "      <th>8</th>\n",
       "      <td>9</td>\n",
       "      <td>Telangana</td>\n",
       "      <td>1,312,929</td>\n",
       "      <td>861,031</td>\n",
       "      <td>1,312,929</td>\n",
       "      <td>1,312,929</td>\n",
       "    </tr>\n",
       "    <tr>\n",
       "      <th>9</th>\n",
       "      <td>10</td>\n",
       "      <td>Madhya Pradesh</td>\n",
       "      <td>1,215,307</td>\n",
       "      <td>809,592</td>\n",
       "      <td>1,215,307</td>\n",
       "      <td>1,215,307</td>\n",
       "    </tr>\n",
       "    <tr>\n",
       "      <th>10</th>\n",
       "      <td>11</td>\n",
       "      <td>Kerala</td>\n",
       "      <td>1,687,818</td>\n",
       "      <td>781,653</td>\n",
       "      <td>1,687,818</td>\n",
       "      <td>1,687,818</td>\n",
       "    </tr>\n",
       "    <tr>\n",
       "      <th>11</th>\n",
       "      <td>12</td>\n",
       "      <td>Delhi</td>\n",
       "      <td>8.39%</td>\n",
       "      <td>774,870</td>\n",
       "      <td>8.39%</td>\n",
       "      <td>8.39%</td>\n",
       "    </tr>\n",
       "    <tr>\n",
       "      <th>12</th>\n",
       "      <td>13</td>\n",
       "      <td>Haryana</td>\n",
       "      <td>240.726</td>\n",
       "      <td>734,163</td>\n",
       "      <td>240.726</td>\n",
       "      <td>240.726</td>\n",
       "    </tr>\n",
       "    <tr>\n",
       "      <th>13</th>\n",
       "      <td>14</td>\n",
       "      <td>Bihar</td>\n",
       "      <td>1,166,817</td>\n",
       "      <td>530,363</td>\n",
       "      <td>1,166,817</td>\n",
       "      <td>1,166,817</td>\n",
       "    </tr>\n",
       "    <tr>\n",
       "      <th>14</th>\n",
       "      <td>15</td>\n",
       "      <td>Punjab</td>\n",
       "      <td>1,123,982</td>\n",
       "      <td>526,376</td>\n",
       "      <td>1,123,982</td>\n",
       "      <td>1,123,982</td>\n",
       "    </tr>\n",
       "    <tr>\n",
       "      <th>15</th>\n",
       "      <td>16</td>\n",
       "      <td>Odisha</td>\n",
       "      <td>-</td>\n",
       "      <td>487,805</td>\n",
       "      <td>-</td>\n",
       "      <td>-</td>\n",
       "    </tr>\n",
       "    <tr>\n",
       "      <th>16</th>\n",
       "      <td>17</td>\n",
       "      <td>Assam</td>\n",
       "      <td>7.96%</td>\n",
       "      <td>315,881</td>\n",
       "      <td>7.96%</td>\n",
       "      <td>7.96%</td>\n",
       "    </tr>\n",
       "    <tr>\n",
       "      <th>17</th>\n",
       "      <td>18</td>\n",
       "      <td>Chhattisgarh</td>\n",
       "      <td>228.290</td>\n",
       "      <td>304,063</td>\n",
       "      <td>228.290</td>\n",
       "      <td>228.290</td>\n",
       "    </tr>\n",
       "    <tr>\n",
       "      <th>18</th>\n",
       "      <td>19</td>\n",
       "      <td>Jharkhand</td>\n",
       "      <td>-</td>\n",
       "      <td>297,204</td>\n",
       "      <td>-</td>\n",
       "      <td>-</td>\n",
       "    </tr>\n",
       "    <tr>\n",
       "      <th>19</th>\n",
       "      <td>20</td>\n",
       "      <td>Uttarakhand</td>\n",
       "      <td>1,186,379</td>\n",
       "      <td>245,895</td>\n",
       "      <td>1,186,379</td>\n",
       "      <td>1,186,379</td>\n",
       "    </tr>\n",
       "    <tr>\n",
       "      <th>20</th>\n",
       "      <td>21</td>\n",
       "      <td>Jammu &amp; Kashmir</td>\n",
       "      <td>1,631,977</td>\n",
       "      <td>155,956</td>\n",
       "      <td>1,631,977</td>\n",
       "      <td>1,631,977</td>\n",
       "    </tr>\n",
       "    <tr>\n",
       "      <th>21</th>\n",
       "      <td>22</td>\n",
       "      <td>Himachal Pradesh</td>\n",
       "      <td>7.91%</td>\n",
       "      <td>153,845</td>\n",
       "      <td>7.91%</td>\n",
       "      <td>7.91%</td>\n",
       "    </tr>\n",
       "    <tr>\n",
       "      <th>22</th>\n",
       "      <td>23</td>\n",
       "      <td>Goa</td>\n",
       "      <td>226.806</td>\n",
       "      <td>73,170</td>\n",
       "      <td>226.806</td>\n",
       "      <td>226.806</td>\n",
       "    </tr>\n",
       "    <tr>\n",
       "      <th>23</th>\n",
       "      <td>24</td>\n",
       "      <td>Tripura</td>\n",
       "      <td>1,156,039</td>\n",
       "      <td>49,845</td>\n",
       "      <td>1,156,039</td>\n",
       "      <td>1,156,039</td>\n",
       "    </tr>\n",
       "    <tr>\n",
       "      <th>24</th>\n",
       "      <td>25</td>\n",
       "      <td>Chandigarh</td>\n",
       "      <td>1,091,077</td>\n",
       "      <td>42,114</td>\n",
       "      <td>1,091,077</td>\n",
       "      <td>1,091,077</td>\n",
       "    </tr>\n",
       "    <tr>\n",
       "      <th>25</th>\n",
       "      <td>26</td>\n",
       "      <td>Puducherry</td>\n",
       "      <td>1,253,832</td>\n",
       "      <td>34,433</td>\n",
       "      <td>1,253,832</td>\n",
       "      <td>1,253,832</td>\n",
       "    </tr>\n",
       "    <tr>\n",
       "      <th>26</th>\n",
       "      <td>27</td>\n",
       "      <td>Meghalaya</td>\n",
       "      <td>5.77%</td>\n",
       "      <td>33,481</td>\n",
       "      <td>5.77%</td>\n",
       "      <td>5.77%</td>\n",
       "    </tr>\n",
       "    <tr>\n",
       "      <th>27</th>\n",
       "      <td>28</td>\n",
       "      <td>Sikkim</td>\n",
       "      <td>165.556</td>\n",
       "      <td>28,723</td>\n",
       "      <td>165.556</td>\n",
       "      <td>165.556</td>\n",
       "    </tr>\n",
       "    <tr>\n",
       "      <th>28</th>\n",
       "      <td>29</td>\n",
       "      <td>Manipur</td>\n",
       "      <td>793,223</td>\n",
       "      <td>27,870</td>\n",
       "      <td>793,223</td>\n",
       "      <td>793,223</td>\n",
       "    </tr>\n",
       "    <tr>\n",
       "      <th>29</th>\n",
       "      <td>30</td>\n",
       "      <td>Nagaland</td>\n",
       "      <td>739,525</td>\n",
       "      <td>27,283</td>\n",
       "      <td>739,525</td>\n",
       "      <td>739,525</td>\n",
       "    </tr>\n",
       "    <tr>\n",
       "      <th>30</th>\n",
       "      <td>31</td>\n",
       "      <td>Arunachal Pradesh</td>\n",
       "      <td>1,020,989</td>\n",
       "      <td>24,603</td>\n",
       "      <td>1,020,989</td>\n",
       "      <td>1,020,989</td>\n",
       "    </tr>\n",
       "    <tr>\n",
       "      <th>31</th>\n",
       "      <td>32</td>\n",
       "      <td>Mizoram</td>\n",
       "      <td>4.99%</td>\n",
       "      <td>22,287</td>\n",
       "      <td>4.99%</td>\n",
       "      <td>4.99%</td>\n",
       "    </tr>\n",
       "    <tr>\n",
       "      <th>32</th>\n",
       "      <td>33</td>\n",
       "      <td>Andaman &amp; Nicobar Islands</td>\n",
       "      <td>143.179</td>\n",
       "      <td>-</td>\n",
       "      <td>143.179</td>\n",
       "      <td>143.179</td>\n",
       "    </tr>\n",
       "  </tbody>\n",
       "</table>\n",
       "</div>"
      ],
      "text/plain": [
       "   rank_title                 state_name GSDP_price GSDP_prices Share_percent  \\\n",
       "0           1                Maharashtra          -   2,632,792             -   \n",
       "1           2                 Tamil Nadu     13.94%   1,630,208        13.94%   \n",
       "2           3              Uttar Pradesh    399.921   1,584,764       399.921   \n",
       "3           4                    Gujarat          -   1,502,899             -   \n",
       "4           5                  Karnataka  2,039,074   1,493,127     2,039,074   \n",
       "5           6                West Bengal  1,845,853   1,089,898     1,845,853   \n",
       "6           7                  Rajasthan      8.63%     942,586         8.63%   \n",
       "7           8             Andhra Pradesh    247.629     862,957       247.629   \n",
       "8           9                  Telangana  1,312,929     861,031     1,312,929   \n",
       "9          10             Madhya Pradesh  1,215,307     809,592     1,215,307   \n",
       "10         11                     Kerala  1,687,818     781,653     1,687,818   \n",
       "11         12                      Delhi      8.39%     774,870         8.39%   \n",
       "12         13                    Haryana    240.726     734,163       240.726   \n",
       "13         14                      Bihar  1,166,817     530,363     1,166,817   \n",
       "14         15                     Punjab  1,123,982     526,376     1,123,982   \n",
       "15         16                     Odisha          -     487,805             -   \n",
       "16         17                      Assam      7.96%     315,881         7.96%   \n",
       "17         18               Chhattisgarh    228.290     304,063       228.290   \n",
       "18         19                  Jharkhand          -     297,204             -   \n",
       "19         20                Uttarakhand  1,186,379     245,895     1,186,379   \n",
       "20         21            Jammu & Kashmir  1,631,977     155,956     1,631,977   \n",
       "21         22           Himachal Pradesh      7.91%     153,845         7.91%   \n",
       "22         23                        Goa    226.806      73,170       226.806   \n",
       "23         24                    Tripura  1,156,039      49,845     1,156,039   \n",
       "24         25                 Chandigarh  1,091,077      42,114     1,091,077   \n",
       "25         26                 Puducherry  1,253,832      34,433     1,253,832   \n",
       "26         27                  Meghalaya      5.77%      33,481         5.77%   \n",
       "27         28                     Sikkim    165.556      28,723       165.556   \n",
       "28         29                    Manipur    793,223      27,870       793,223   \n",
       "29         30                   Nagaland    739,525      27,283       739,525   \n",
       "30         31          Arunachal Pradesh  1,020,989      24,603     1,020,989   \n",
       "31         32                    Mizoram      4.99%      22,287         4.99%   \n",
       "32         33  Andaman & Nicobar Islands    143.179           -       143.179   \n",
       "\n",
       "       GDP_RS  \n",
       "0           -  \n",
       "1      13.94%  \n",
       "2     399.921  \n",
       "3           -  \n",
       "4   2,039,074  \n",
       "5   1,845,853  \n",
       "6       8.63%  \n",
       "7     247.629  \n",
       "8   1,312,929  \n",
       "9   1,215,307  \n",
       "10  1,687,818  \n",
       "11      8.39%  \n",
       "12    240.726  \n",
       "13  1,166,817  \n",
       "14  1,123,982  \n",
       "15          -  \n",
       "16      7.96%  \n",
       "17    228.290  \n",
       "18          -  \n",
       "19  1,186,379  \n",
       "20  1,631,977  \n",
       "21      7.91%  \n",
       "22    226.806  \n",
       "23  1,156,039  \n",
       "24  1,091,077  \n",
       "25  1,253,832  \n",
       "26      5.77%  \n",
       "27    165.556  \n",
       "28    793,223  \n",
       "29    739,525  \n",
       "30  1,020,989  \n",
       "31      4.99%  \n",
       "32    143.179  "
      ]
     },
     "execution_count": 43,
     "metadata": {},
     "output_type": "execute_result"
    }
   ],
   "source": [
    "#creating dataframe\n",
    "df=pd.DataFrame({'rank_title':rank_title,'state_name':state_name,'GSDP_price':GSDP_price,'GSDP_prices':GSDP_prices,'Share_percent':Share_percent,'GDP_RS':GDP_RS})\n",
    "df"
   ]
  },
  {
   "cell_type": "code",
   "execution_count": null,
   "id": "085511a9",
   "metadata": {},
   "outputs": [],
   "source": []
  }
 ],
 "metadata": {
  "kernelspec": {
   "display_name": "Python 3 (ipykernel)",
   "language": "python",
   "name": "python3"
  },
  "language_info": {
   "codemirror_mode": {
    "name": "ipython",
    "version": 3
   },
   "file_extension": ".py",
   "mimetype": "text/x-python",
   "name": "python",
   "nbconvert_exporter": "python",
   "pygments_lexer": "ipython3",
   "version": "3.9.12"
  }
 },
 "nbformat": 4,
 "nbformat_minor": 5
}
