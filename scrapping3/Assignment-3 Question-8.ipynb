{
 "cells": [
  {
   "cell_type": "code",
   "execution_count": null,
   "id": "992812c9",
   "metadata": {},
   "outputs": [],
   "source": [
    "8. Write a python program to scrape the details for all billionaires from www.forbes.com. Details to be\n",
    "scrapped: “Rank”, “Name”, “Net worth”, “Age”, “Citizenship”, “Source”, “Industry”.\n"
   ]
  },
  {
   "cell_type": "code",
   "execution_count": 1,
   "id": "147e1f80",
   "metadata": {},
   "outputs": [],
   "source": [
    "import selenium\n",
    "import pandas as pd \n",
    "from selenium import webdriver\n",
    "import warnings\n",
    "warnings.filterwarnings('ignore')\n",
    "from selenium.common.exceptions import StaleElementReferenceException, NoSuchElementException\n",
    "from selenium.webdriver.common.by import By\n",
    "import time\n",
    "import requests\n",
    "import re"
   ]
  },
  {
   "cell_type": "code",
   "execution_count": 2,
   "id": "295878cd",
   "metadata": {},
   "outputs": [],
   "source": [
    "driver=webdriver.Chrome(r\"F:\\flip robo\\chromedriver.exe\")"
   ]
  },
  {
   "cell_type": "code",
   "execution_count": 4,
   "id": "6b1b3ec0",
   "metadata": {},
   "outputs": [],
   "source": [
    "driver.get(\"https://www.forbes.com/?sh=69e6b8c92254\")\n",
    "time.sleep(2)"
   ]
  },
  {
   "cell_type": "code",
   "execution_count": 10,
   "id": "f9c16d83",
   "metadata": {},
   "outputs": [],
   "source": [
    "button = driver.find_element(By.XPATH,\"/html/body/div[1]/header/nav/div[1]/div/div/div[1]\")\n",
    "button.click()\n",
    "time.sleep(1)"
   ]
  },
  {
   "cell_type": "code",
   "execution_count": 12,
   "id": "605dc4a9",
   "metadata": {},
   "outputs": [],
   "source": [
    "billioners = driver.find_element(By.XPATH,\"/html/body/div[1]/header/nav/div[1]/div/div/div[2]/ul/li[1]/div[1]\")\n",
    "billioners.click()\n",
    "time.sleep(1)"
   ]
  },
  {
   "cell_type": "code",
   "execution_count": 14,
   "id": "d814f51d",
   "metadata": {},
   "outputs": [],
   "source": [
    "world_billioners= driver.find_element(By.XPATH,\"/html/body/div[1]/header/nav/div[1]/div/div/div[2]/ul/li[1]/div[2]/div[2]/ul/li[1]/a\")\n",
    "world_billioners.click()\n",
    "time.sleep(1)"
   ]
  },
  {
   "cell_type": "code",
   "execution_count": 15,
   "id": "1b7eafd5",
   "metadata": {},
   "outputs": [],
   "source": [
    "#make empty listes\n",
    "Rank = [] \n",
    "Person_Name = [] \n",
    "total_net_worth = [] \n",
    "Age = []\n",
    "country_of_citizenship = [] \n",
    "Source = []\n",
    "industry = []"
   ]
  },
  {
   "cell_type": "code",
   "execution_count": null,
   "id": "01882d54",
   "metadata": {},
   "outputs": [],
   "source": [
    "while(True):\n",
    "    #scraping rank of billionaire\n",
    "    rank= driver.find_elements(By.XPATH,\"//div[@class='rank']\")\n",
    "    for i in rank:\n",
    "        Rank.append(i.text)\n",
    "    time.sleep(1)\n",
    "    \n",
    "    #scraping name of billionaire\n",
    "    name= driver.find_elements(By.XPATH,\"//div[@class='personName']//div\")\n",
    "    for i in name:\n",
    "        Person_Name.append(i.text)\n",
    "    time.sleep(1)\n",
    "    \n",
    "     #scraping Age of billionaire\n",
    "    age= driver.find_elements(By.XPATH,\"//div[@class='age']//div\")\n",
    "    for i in age:\n",
    "        Age.append(i.text)   \n",
    "    time.sleep(1)\n",
    "    \n",
    "    #scraping citizenship of billionaire    \n",
    "    citizenship= driver.find_elements(By.XPATH,\"//div[@class='countryOfCitizenship']\")\n",
    "    for i in citizenship:\n",
    "        country_of_citizenship.append(i.text)\n",
    "    time.sleep(1)\n",
    "    \n",
    "    #scraping source of income\n",
    "    source= driver.find_elements(By.XPATH,\"//div[@class='source']\")\n",
    "    for i in source:\n",
    "        Source.append(i.text)    \n",
    "    time.sleep(1)\n",
    "        \n",
    "    #scraping Age of billionaire\n",
    "    industries= driver.find_elements(By.XPATH,\"//div[@class='category']//div\")\n",
    "    for i in industries:\n",
    "        industry.append(i.text)\n",
    "        \n",
    "    #scraping net_worth of billionaire\n",
    "    net_worth= driver.find_elements(By.XPATH,\"//div[@class='netWorth']//div[1]\")\n",
    "    for i in net_worth:\n",
    "        total_net_worth.append(i.text)\n",
    "    time.sleep(1)    \n",
    "        \n",
    "    try:\n",
    "        next_button = driver.find_element(By.XPATH,\"//button[@class='pagination-btn pagination-btn--next ']\")\n",
    "        next_button.click()\n",
    "    except:\n",
    "        break  \n",
    "\n",
    "        \n",
    "Net_Worth = []        \n",
    "for i in range(0,len(total_net_worth),2):\n",
    "        Net_Worth.append(total_net_worth[i])"
   ]
  },
  {
   "cell_type": "code",
   "execution_count": null,
   "id": "0af61660",
   "metadata": {},
   "outputs": [],
   "source": []
  }
 ],
 "metadata": {
  "kernelspec": {
   "display_name": "Python 3 (ipykernel)",
   "language": "python",
   "name": "python3"
  },
  "language_info": {
   "codemirror_mode": {
    "name": "ipython",
    "version": 3
   },
   "file_extension": ".py",
   "mimetype": "text/x-python",
   "name": "python",
   "nbconvert_exporter": "python",
   "pygments_lexer": "ipython3",
   "version": "3.9.12"
  }
 },
 "nbformat": 4,
 "nbformat_minor": 5
}
