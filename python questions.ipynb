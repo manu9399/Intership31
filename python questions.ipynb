{
 "cells": [
  {
   "cell_type": "code",
   "execution_count": 1,
   "id": "53f69040",
   "metadata": {},
   "outputs": [
    {
     "name": "stdout",
     "output_type": "stream",
     "text": [
      "Enter any Number:6\n",
      "720\n"
     ]
    }
   ],
   "source": [
    "#Q11 to Q15 are programming questions. Answer them in Jupyter Notebook.\n",
    "\n",
    "#11. Write a python program to find the factorial of a number.\n",
    "\n",
    "def factorial(x):\n",
    "    if x==1:\n",
    "        return 1\n",
    "    else:\n",
    "        return(x * factorial(x-1))\n",
    "    \n",
    "x=int(input(\"Enter any Number:\"))\n",
    "print(factorial(x))"
   ]
  },
  {
   "cell_type": "code",
   "execution_count": 4,
   "id": "0890673d",
   "metadata": {},
   "outputs": [
    {
     "name": "stdout",
     "output_type": "stream",
     "text": [
      "Ener any nautral no:10\n",
      "10 is a composite number\n"
     ]
    }
   ],
   "source": [
    "#12 Write a python program to find whether a number is prime or composite.\n",
    "\n",
    "number=int(input(\"Ener any nautral no:\"))\n",
    "\n",
    "if number < 1:\n",
    "    print(\"Number needs to be greater than 1\")\n",
    "elif number == 1:\n",
    "    print(number,\"Number is neighter prime nor composite\")\n",
    "else:\n",
    "    for divisor in range(2,(number//2)+1):\n",
    "        if ((number % divisor) == 0):\n",
    "            print(number,\"is a composite number\")\n",
    "            break\n",
    "    else:\n",
    "        print(number, \"is a Prime Number\")\n",
    "    \n"
   ]
  },
  {
   "cell_type": "code",
   "execution_count": 9,
   "id": "6812db65",
   "metadata": {},
   "outputs": [
    {
     "name": "stdout",
     "output_type": "stream",
     "text": [
      "Enter the string madam\n",
      "Is palindrome\n"
     ]
    }
   ],
   "source": [
    "#13. Write a python program to check whether a given string is palindrome or not\n",
    "str=input(\"Enter the string \")\n",
    "if str==str[::-1]:\n",
    "    print(\"Is palindrome\")\n",
    "else:\n",
    "    print(\"Not palindrome\")"
   ]
  },
  {
   "cell_type": "code",
   "execution_count": 11,
   "id": "b95f57f8",
   "metadata": {},
   "outputs": [
    {
     "name": "stdout",
     "output_type": "stream",
     "text": [
      "Enter base: 10.5\n",
      "Enter height: 5.5\n",
      "Enter angle: 60\n",
      "Hyptenuse= 11.853269591129697\n"
     ]
    }
   ],
   "source": [
    "#14 Write a Python program to get the third side of right-angled triangle from two given sides\n",
    "import math\n",
    "\n",
    "a=float(input(\"Enter base: \"))\n",
    "b=float(input(\"Enter height: \"))\n",
    "x=float(input(\"Enter angle: \"))\n",
    "\n",
    "c=math.sqrt(a ** 2 + b ** 2)\n",
    "print(\"Hyptenuse=\",c)"
   ]
  },
  {
   "cell_type": "code",
   "execution_count": 13,
   "id": "e3ee42fa",
   "metadata": {},
   "outputs": [
    {
     "name": "stdout",
     "output_type": "stream",
     "text": [
      "Enter any String: hellooooooooooo\n",
      "Enter search character: o\n",
      "Number of time found =  11\n"
     ]
    }
   ],
   "source": [
    "#15 Write a python program to print the frequency of each of the characters present in a given string.\n",
    "a=input(\"Enter any String: \")\n",
    "ch=input(\"Enter search character: \")\n",
    "freq=0\n",
    "for i in a:\n",
    "    if i == ch:\n",
    "        freq=freq+1\n",
    "print(\"Number of time found = \",freq)"
   ]
  },
  {
   "cell_type": "code",
   "execution_count": null,
   "id": "acaac6c3",
   "metadata": {},
   "outputs": [],
   "source": []
  }
 ],
 "metadata": {
  "kernelspec": {
   "display_name": "Python 3 (ipykernel)",
   "language": "python",
   "name": "python3"
  },
  "language_info": {
   "codemirror_mode": {
    "name": "ipython",
    "version": 3
   },
   "file_extension": ".py",
   "mimetype": "text/x-python",
   "name": "python",
   "nbconvert_exporter": "python",
   "pygments_lexer": "ipython3",
   "version": "3.9.12"
  }
 },
 "nbformat": 4,
 "nbformat_minor": 5
}
