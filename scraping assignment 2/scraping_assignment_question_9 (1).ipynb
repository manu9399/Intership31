{
 "cells": [
  {
   "cell_type": "code",
   "execution_count": null,
   "id": "646b678e",
   "metadata": {},
   "outputs": [],
   "source": [
    "#Q9: Write a python program to scrape data for first 10 job results for Data Scientist Designation in Noida\n",
    "#location. You have to scrape company name, No. of days ago when job was posted, Rating of the company.\n",
    "#This task will be done in following steps:\n",
    "#1. First get the webpage https://www.ambitionbox.com/\n",
    "#2. Click on the Job option as shown in the image\n",
    "#3. After reaching to the next webpage, In place of “Search by Designations, Companies, Skills” enter\n",
    "#“Data Scientist” and click on search button.\n",
    "#4. You will reach to the following web page click on location and in place of “Search location” enter\n",
    "#“Noida” and select location “Noida”.\n",
    "#5. Then scrape the data for the first 10 jobs results you get on the above shown page.\n",
    "#6. Finally create a dataframe of the scraped data.\n",
    "#Note: All the steps required during scraping should be done through code only and not manually."
   ]
  },
  {
   "cell_type": "code",
   "execution_count": 1,
   "id": "a41b4cc4",
   "metadata": {},
   "outputs": [],
   "source": [
    "import selenium\n",
    "import pandas as pd \n",
    "from selenium import webdriver\n",
    "import warnings\n",
    "warnings.filterwarnings('ignore')\n",
    "from selenium.common.exceptions import StaleElementReferenceException, NoSuchElementException\n",
    "from selenium.webdriver.common.by import By\n",
    "import time"
   ]
  },
  {
   "cell_type": "code",
   "execution_count": 2,
   "id": "c370fac3",
   "metadata": {},
   "outputs": [],
   "source": [
    "driver=webdriver.Chrome(r\"F:\\flip robo\\chromedriver.exe\")"
   ]
  },
  {
   "cell_type": "code",
   "execution_count": 3,
   "id": "18aea4d0",
   "metadata": {},
   "outputs": [],
   "source": [
    "driver.get(\"https://www.ambitionbox.com/\")"
   ]
  },
  {
   "cell_type": "code",
   "execution_count": 4,
   "id": "7715a395",
   "metadata": {},
   "outputs": [],
   "source": [
    "job=driver.find_element(By.CLASS_NAME,'navItemLink')\n",
    "job.click()"
   ]
  },
  {
   "cell_type": "code",
   "execution_count": 5,
   "id": "700581fd",
   "metadata": {},
   "outputs": [],
   "source": [
    "designation=driver.find_element(By.XPATH,\"/html/body/div/div/div/div[2]/div[1]/div[1]/div/div/div/div/span/input\")\n",
    "designation.send_keys('Data scientist')"
   ]
  },
  {
   "cell_type": "code",
   "execution_count": 6,
   "id": "200691c1",
   "metadata": {},
   "outputs": [],
   "source": [
    "search=driver.find_element(By.CLASS_NAME,\"ctas-btn-medium\")\n",
    "search.click()"
   ]
  },
  {
   "cell_type": "code",
   "execution_count": 12,
   "id": "94497667",
   "metadata": {},
   "outputs": [],
   "source": [
    "location=driver.find_element(By.XPATH,\"/html/body/div/div/div/div[2]/div[1]/div[2]/div[1]/div/div/div/div[2]/div[1]/p\")\n",
    "location.click()"
   ]
  },
  {
   "cell_type": "code",
   "execution_count": 13,
   "id": "f00eda0c",
   "metadata": {},
   "outputs": [],
   "source": [
    "city=driver.find_element(By.XPATH,\"/html/body/div/div/div/div[2]/div[1]/div[2]/div[1]/div/div/div/div[2]/div[2]/div/div[2]/input\")\n",
    "city.send_keys('Noida')"
   ]
  },
  {
   "cell_type": "code",
   "execution_count": 14,
   "id": "9b679e9d",
   "metadata": {},
   "outputs": [],
   "source": [
    "locations=driver.find_element(By.XPATH,\"/html/body/div/div/div/div[2]/div[1]/div[2]/div[1]/div/div/div/div[2]/div[2]/div/div[3]/div[1]/div[1]/div/label\")\n",
    "locations.click()"
   ]
  },
  {
   "cell_type": "code",
   "execution_count": 15,
   "id": "1c9196c1",
   "metadata": {},
   "outputs": [],
   "source": [
    "job_title=[]\n",
    "job_location=[]\n",
    "company_name=[]\n",
    "experience_required=[]"
   ]
  },
  {
   "cell_type": "code",
   "execution_count": 16,
   "id": "7de08ae4",
   "metadata": {},
   "outputs": [],
   "source": [
    "#scraping job title from the given page\n",
    "title_tags=driver.find_elements(By.XPATH,'//a[@class=\"title noclick\"]')\n",
    "for i in title_tags[0:10]:\n",
    "    title=i.text\n",
    "    job_title.append(title)\n",
    "    "
   ]
  },
  {
   "cell_type": "code",
   "execution_count": 17,
   "id": "4644cf08",
   "metadata": {},
   "outputs": [],
   "source": [
    "#Scraping job location from the given page\n",
    "location_tags=driver.find_elements(By.XPATH,'//p[@class=\"body-small-l\"]')\n",
    "for i in location_tags[0:10]:\n",
    "    location=i.text\n",
    "    job_location.append(location)"
   ]
  },
  {
   "cell_type": "code",
   "execution_count": 18,
   "id": "651ea1b5",
   "metadata": {},
   "outputs": [],
   "source": [
    "#scraping company name from the given page\n",
    "company_tags=driver.find_elements(By.XPATH,'//div[@class=\"company-info\"]')\n",
    "for i in company_tags[0:10]:\n",
    "    company=i.text\n",
    "    company_name.append(company)\n",
    "    "
   ]
  },
  {
   "cell_type": "code",
   "execution_count": 19,
   "id": "22b5ef4f",
   "metadata": {},
   "outputs": [],
   "source": [
    "#scraping experience_required from the given page\n",
    "experience_tags=driver.find_elements(By.XPATH,'//p[@class=\"body-small-l\"]')\n",
    "for i in experience_tags[0:10]:\n",
    "    experience=i.text\n",
    "    experience_required.append(experience)"
   ]
  },
  {
   "cell_type": "code",
   "execution_count": 20,
   "id": "698ff319",
   "metadata": {},
   "outputs": [
    {
     "name": "stdout",
     "output_type": "stream",
     "text": [
      "10 10 10 10\n"
     ]
    }
   ],
   "source": [
    "print(len(job_title),len(job_location),len(company_name),len(experience_required))"
   ]
  },
  {
   "cell_type": "code",
   "execution_count": 21,
   "id": "22b09ceb",
   "metadata": {},
   "outputs": [
    {
     "data": {
      "text/html": [
       "<div>\n",
       "<style scoped>\n",
       "    .dataframe tbody tr th:only-of-type {\n",
       "        vertical-align: middle;\n",
       "    }\n",
       "\n",
       "    .dataframe tbody tr th {\n",
       "        vertical-align: top;\n",
       "    }\n",
       "\n",
       "    .dataframe thead th {\n",
       "        text-align: right;\n",
       "    }\n",
       "</style>\n",
       "<table border=\"1\" class=\"dataframe\">\n",
       "  <thead>\n",
       "    <tr style=\"text-align: right;\">\n",
       "      <th></th>\n",
       "      <th>job_title</th>\n",
       "      <th>job_location</th>\n",
       "      <th>company_name</th>\n",
       "      <th>experience_required</th>\n",
       "    </tr>\n",
       "  </thead>\n",
       "  <tbody>\n",
       "    <tr>\n",
       "      <th>0</th>\n",
       "      <td>Quality Engineer</td>\n",
       "      <td>2-7 years</td>\n",
       "      <td>Optum Global Solutions (India) Private Limited...</td>\n",
       "      <td>2-7 years</td>\n",
       "    </tr>\n",
       "    <tr>\n",
       "      <th>1</th>\n",
       "      <td>Data Scientist- SAS Analyst</td>\n",
       "      <td>Not Disclosed</td>\n",
       "      <td>Optum Global Solutions (India) Private Limited...</td>\n",
       "      <td>Not Disclosed</td>\n",
       "    </tr>\n",
       "    <tr>\n",
       "      <th>2</th>\n",
       "      <td>EY GDS - Data Scientist (10-20 yrs)</td>\n",
       "      <td>Noida</td>\n",
       "      <td>BARCLAYS GLOBAL SERVICE CENTRE PRIVATE LIMITED...</td>\n",
       "      <td>Noida</td>\n",
       "    </tr>\n",
       "    <tr>\n",
       "      <th>3</th>\n",
       "      <td>Data Scientist</td>\n",
       "      <td>2-7 Yrs</td>\n",
       "      <td>EY GDS\\n3.8\\n(5.9k Reviews)</td>\n",
       "      <td>2-7 Yrs</td>\n",
       "    </tr>\n",
       "    <tr>\n",
       "      <th>4</th>\n",
       "      <td>Hiring For Genpact-Data Scientist- Forecasting...</td>\n",
       "      <td>Not Disclosed</td>\n",
       "      <td>GLOBALLOGIC INDIA PRIVATE LIMITED\\n4.0\\n(2.1k ...</td>\n",
       "      <td>Not Disclosed</td>\n",
       "    </tr>\n",
       "    <tr>\n",
       "      <th>5</th>\n",
       "      <td>Genpact - Data Scientist - Forecasting/Python/...</td>\n",
       "      <td>Noida</td>\n",
       "      <td>GENPACT India Private Limited\\n4.0\\n(20.2k Rev...</td>\n",
       "      <td>Noida</td>\n",
       "    </tr>\n",
       "    <tr>\n",
       "      <th>6</th>\n",
       "      <td>Data Scientist</td>\n",
       "      <td>Unix, oracle, data scientists +4 more</td>\n",
       "      <td>Genpact\\n4.0\\n(20.2k Reviews)</td>\n",
       "      <td>Unix, oracle, data scientists +4 more</td>\n",
       "    </tr>\n",
       "    <tr>\n",
       "      <th>7</th>\n",
       "      <td>Data Scientist - Machine Learning Algorithms (...</td>\n",
       "      <td>2-7 Yrs</td>\n",
       "      <td>Ericsson India Global Services Pvt. Ltd.\\n4.3\\...</td>\n",
       "      <td>2-7 Yrs</td>\n",
       "    </tr>\n",
       "    <tr>\n",
       "      <th>8</th>\n",
       "      <td>Data Scientist</td>\n",
       "      <td>Not Disclosed</td>\n",
       "      <td>Dew Solutions Pvt. Ltd.\\n4.3\\n(83 Reviews)</td>\n",
       "      <td>Not Disclosed</td>\n",
       "    </tr>\n",
       "    <tr>\n",
       "      <th>9</th>\n",
       "      <td>EY - Data Engineer - Data Integration/Modeling...</td>\n",
       "      <td>Noida</td>\n",
       "      <td>One97 Communications Limited\\n3.8\\n(4.2k Reviews)</td>\n",
       "      <td>Noida</td>\n",
       "    </tr>\n",
       "  </tbody>\n",
       "</table>\n",
       "</div>"
      ],
      "text/plain": [
       "                                           job_title  \\\n",
       "0                                   Quality Engineer   \n",
       "1                        Data Scientist- SAS Analyst   \n",
       "2                EY GDS - Data Scientist (10-20 yrs)   \n",
       "3                                     Data Scientist   \n",
       "4  Hiring For Genpact-Data Scientist- Forecasting...   \n",
       "5  Genpact - Data Scientist - Forecasting/Python/...   \n",
       "6                                     Data Scientist   \n",
       "7  Data Scientist - Machine Learning Algorithms (...   \n",
       "8                                     Data Scientist   \n",
       "9  EY - Data Engineer - Data Integration/Modeling...   \n",
       "\n",
       "                            job_location  \\\n",
       "0                              2-7 years   \n",
       "1                          Not Disclosed   \n",
       "2                                  Noida   \n",
       "3                                2-7 Yrs   \n",
       "4                          Not Disclosed   \n",
       "5                                  Noida   \n",
       "6  Unix, oracle, data scientists +4 more   \n",
       "7                                2-7 Yrs   \n",
       "8                          Not Disclosed   \n",
       "9                                  Noida   \n",
       "\n",
       "                                        company_name  \\\n",
       "0  Optum Global Solutions (India) Private Limited...   \n",
       "1  Optum Global Solutions (India) Private Limited...   \n",
       "2  BARCLAYS GLOBAL SERVICE CENTRE PRIVATE LIMITED...   \n",
       "3                        EY GDS\\n3.8\\n(5.9k Reviews)   \n",
       "4  GLOBALLOGIC INDIA PRIVATE LIMITED\\n4.0\\n(2.1k ...   \n",
       "5  GENPACT India Private Limited\\n4.0\\n(20.2k Rev...   \n",
       "6                      Genpact\\n4.0\\n(20.2k Reviews)   \n",
       "7  Ericsson India Global Services Pvt. Ltd.\\n4.3\\...   \n",
       "8         Dew Solutions Pvt. Ltd.\\n4.3\\n(83 Reviews)   \n",
       "9  One97 Communications Limited\\n3.8\\n(4.2k Reviews)   \n",
       "\n",
       "                     experience_required  \n",
       "0                              2-7 years  \n",
       "1                          Not Disclosed  \n",
       "2                                  Noida  \n",
       "3                                2-7 Yrs  \n",
       "4                          Not Disclosed  \n",
       "5                                  Noida  \n",
       "6  Unix, oracle, data scientists +4 more  \n",
       "7                                2-7 Yrs  \n",
       "8                          Not Disclosed  \n",
       "9                                  Noida  "
      ]
     },
     "execution_count": 21,
     "metadata": {},
     "output_type": "execute_result"
    }
   ],
   "source": [
    "#creating dataframe\n",
    "df=pd.DataFrame({'job_title':job_title,'job_location':job_location,'company_name':company_name,'experience_required':experience_required})\n",
    "df"
   ]
  },
  {
   "cell_type": "code",
   "execution_count": null,
   "id": "fceded88",
   "metadata": {},
   "outputs": [],
   "source": []
  }
 ],
 "metadata": {
  "kernelspec": {
   "display_name": "Python 3 (ipykernel)",
   "language": "python",
   "name": "python3"
  },
  "language_info": {
   "codemirror_mode": {
    "name": "ipython",
    "version": 3
   },
   "file_extension": ".py",
   "mimetype": "text/x-python",
   "name": "python",
   "nbconvert_exporter": "python",
   "pygments_lexer": "ipython3",
   "version": "3.9.12"
  }
 },
 "nbformat": 4,
 "nbformat_minor": 5
}
