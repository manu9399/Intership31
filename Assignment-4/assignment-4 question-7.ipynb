{
 "cells": [
  {
   "cell_type": "code",
   "execution_count": null,
   "id": "10758eca",
   "metadata": {},
   "outputs": [],
   "source": []
  },
  {
   "cell_type": "code",
   "execution_count": 1,
   "id": "d7963e72",
   "metadata": {},
   "outputs": [],
   "source": [
    "import selenium\n",
    "import pandas as pd \n",
    "from selenium import webdriver\n",
    "import warnings\n",
    "warnings.filterwarnings('ignore')\n",
    "from selenium.common.exceptions import StaleElementReferenceException, NoSuchElementException\n",
    "from selenium.webdriver.common.by import By\n",
    "import time"
   ]
  },
  {
   "cell_type": "code",
   "execution_count": 2,
   "id": "5e962ec8",
   "metadata": {},
   "outputs": [],
   "source": [
    "driver=webdriver.Chrome(r\"F:\\flip robo\\chromedriver.exe\")"
   ]
  },
  {
   "cell_type": "code",
   "execution_count": 3,
   "id": "7060db13",
   "metadata": {},
   "outputs": [],
   "source": [
    "driver.get(\"http://www.naukri.com/\")"
   ]
  },
  {
   "cell_type": "code",
   "execution_count": 4,
   "id": "bd447ab1",
   "metadata": {},
   "outputs": [],
   "source": [
    "designation=driver.find_element(By.CLASS_NAME,\"suggestor-input\")\n",
    "designation.send_keys('Data Scientist')"
   ]
  },
  {
   "cell_type": "code",
   "execution_count": 5,
   "id": "e23c2fb3",
   "metadata": {},
   "outputs": [],
   "source": [
    "search=driver.find_element(By.CLASS_NAME,\"qsbSubmit\")\n",
    "search.click()"
   ]
  },
  {
   "cell_type": "code",
   "execution_count": 7,
   "id": "b5d86a0e",
   "metadata": {},
   "outputs": [],
   "source": [
    "job_title=[]\n",
    "job_location=[]\n",
    "required_skill=[]\n",
    "company_name=[]\n",
    "experience_required=[]"
   ]
  },
  {
   "cell_type": "code",
   "execution_count": 8,
   "id": "4775fa2a",
   "metadata": {},
   "outputs": [],
   "source": [
    "#scraping job title from the given page\n",
    "title_tags=driver.find_elements(By.XPATH,'//a[@class=\"title fw500 ellipsis\"]')\n",
    "for i in title_tags[0:10]:\n",
    "    title=i.text\n",
    "    job_title.append(title)"
   ]
  },
  {
   "cell_type": "code",
   "execution_count": 9,
   "id": "704a7cb5",
   "metadata": {},
   "outputs": [],
   "source": [
    "#Scraping job location from the given page\n",
    "location_tags=driver.find_elements(By.XPATH,'//span[@class=\"ellipsis fleft fs12 lh16 \"]')\n",
    "for i in location_tags[0:10]:\n",
    "    location=i.text\n",
    "    job_location.append(location)"
   ]
  },
  {
   "cell_type": "code",
   "execution_count": 10,
   "id": "4a97f664",
   "metadata": {},
   "outputs": [],
   "source": [
    "#Scraping required skil from the given page\n",
    "skill_tags=driver.find_elements(By.XPATH,'//div[@class=\"job-description fs12 grey-text\"]')\n",
    "for i in skill_tags[0:10]:\n",
    "    skill=i.text\n",
    "    required_skill.append(skill)"
   ]
  },
  {
   "cell_type": "code",
   "execution_count": 11,
   "id": "223a6fed",
   "metadata": {},
   "outputs": [],
   "source": [
    "#scraping company name from the given page\n",
    "company_tags=driver.find_elements(By.XPATH,'//a[@class=\"subTitle ellipsis fleft\"]')\n",
    "for i in company_tags[0:10]:\n",
    "    company=i.text\n",
    "    company_name.append(company)"
   ]
  },
  {
   "cell_type": "code",
   "execution_count": 12,
   "id": "f22529dc",
   "metadata": {},
   "outputs": [],
   "source": [
    "    \n",
    "#scraping experience_required from the given page\n",
    "experience_tags=driver.find_elements(By.XPATH,'//span[@class=\"ellipsis fleft fs12 lh16 \"]')\n",
    "for i in experience_tags[0:10]:\n",
    "    experience=i.text\n",
    "    experience_required.append(experience)"
   ]
  },
  {
   "cell_type": "code",
   "execution_count": 14,
   "id": "70b6a29c",
   "metadata": {},
   "outputs": [
    {
     "data": {
      "text/html": [
       "<div>\n",
       "<style scoped>\n",
       "    .dataframe tbody tr th:only-of-type {\n",
       "        vertical-align: middle;\n",
       "    }\n",
       "\n",
       "    .dataframe tbody tr th {\n",
       "        vertical-align: top;\n",
       "    }\n",
       "\n",
       "    .dataframe thead th {\n",
       "        text-align: right;\n",
       "    }\n",
       "</style>\n",
       "<table border=\"1\" class=\"dataframe\">\n",
       "  <thead>\n",
       "    <tr style=\"text-align: right;\">\n",
       "      <th></th>\n",
       "      <th>job_title</th>\n",
       "      <th>job_location</th>\n",
       "      <th>required_skill</th>\n",
       "      <th>company_name</th>\n",
       "      <th>experience_required</th>\n",
       "    </tr>\n",
       "  </thead>\n",
       "  <tbody>\n",
       "    <tr>\n",
       "      <th>0</th>\n",
       "      <td>Data Science Specialist</td>\n",
       "      <td>2-4 Yrs</td>\n",
       "      <td>Must Have Knowledge of statistical techniques ...</td>\n",
       "      <td>Accenture</td>\n",
       "      <td>2-4 Yrs</td>\n",
       "    </tr>\n",
       "    <tr>\n",
       "      <th>1</th>\n",
       "      <td>Data Science Manager</td>\n",
       "      <td>Not disclosed</td>\n",
       "      <td>Must Have Advanced Analytical skills</td>\n",
       "      <td>Accenture</td>\n",
       "      <td>Not disclosed</td>\n",
       "    </tr>\n",
       "    <tr>\n",
       "      <th>2</th>\n",
       "      <td>Mongodb Database Administrator, Maria DB or Ca...</td>\n",
       "      <td>Kolkata, Mumbai, Hyderabad/Secunderabad, Pune,...</td>\n",
       "      <td>Technical Skills: Expert database administrati...</td>\n",
       "      <td>Mphasis</td>\n",
       "      <td>Kolkata, Mumbai, Hyderabad/Secunderabad, Pune,...</td>\n",
       "    </tr>\n",
       "    <tr>\n",
       "      <th>3</th>\n",
       "      <td>PS Manager - Site Data Scientist</td>\n",
       "      <td>4-7 Yrs</td>\n",
       "      <td>Develop and plan required analytic projects in...</td>\n",
       "      <td>P&amp;G</td>\n",
       "      <td>4-7 Yrs</td>\n",
       "    </tr>\n",
       "    <tr>\n",
       "      <th>4</th>\n",
       "      <td>Assistant Manager - Data Science</td>\n",
       "      <td>Not disclosed</td>\n",
       "      <td>Work with OMICs, image, med device and RWE dat...</td>\n",
       "      <td>CitiusTech</td>\n",
       "      <td>Not disclosed</td>\n",
       "    </tr>\n",
       "    <tr>\n",
       "      <th>5</th>\n",
       "      <td>Senior Data Scientist</td>\n",
       "      <td>Kolkata, Mumbai, Hyderabad/Secunderabad, Pune,...</td>\n",
       "      <td>Candidate should hold Bachelor s Degree in Tec...</td>\n",
       "      <td>Boston Consulting Group</td>\n",
       "      <td>Kolkata, Mumbai, Hyderabad/Secunderabad, Pune,...</td>\n",
       "    </tr>\n",
       "    <tr>\n",
       "      <th>6</th>\n",
       "      <td>Senior Data Scientist</td>\n",
       "      <td>9-14 Yrs</td>\n",
       "      <td>Roles and Responsibilities Job Description / R...</td>\n",
       "      <td>Wipro</td>\n",
       "      <td>9-14 Yrs</td>\n",
       "    </tr>\n",
       "    <tr>\n",
       "      <th>7</th>\n",
       "      <td>Data Scientist</td>\n",
       "      <td>Not disclosed</td>\n",
       "      <td>Experience in data miningProven experience as ...</td>\n",
       "      <td>Tech Mahindra</td>\n",
       "      <td>Not disclosed</td>\n",
       "    </tr>\n",
       "    <tr>\n",
       "      <th>8</th>\n",
       "      <td>Lead ML Scientist</td>\n",
       "      <td>Hyderabad/Secunderabad, Pune, Chennai, Bangalo...</td>\n",
       "      <td>10 years experience in data science and MLAcad...</td>\n",
       "      <td>Fractal Analytics</td>\n",
       "      <td>Hyderabad/Secunderabad, Pune, Chennai, Bangalo...</td>\n",
       "    </tr>\n",
       "    <tr>\n",
       "      <th>9</th>\n",
       "      <td>Senior Data Scientist</td>\n",
       "      <td>5-10 Yrs</td>\n",
       "      <td>As a Senior Data Scientist, you will be respon...</td>\n",
       "      <td>Baker Hughes</td>\n",
       "      <td>5-10 Yrs</td>\n",
       "    </tr>\n",
       "  </tbody>\n",
       "</table>\n",
       "</div>"
      ],
      "text/plain": [
       "                                           job_title  \\\n",
       "0                            Data Science Specialist   \n",
       "1                               Data Science Manager   \n",
       "2  Mongodb Database Administrator, Maria DB or Ca...   \n",
       "3                   PS Manager - Site Data Scientist   \n",
       "4                   Assistant Manager - Data Science   \n",
       "5                              Senior Data Scientist   \n",
       "6                              Senior Data Scientist   \n",
       "7                                     Data Scientist   \n",
       "8                                  Lead ML Scientist   \n",
       "9                              Senior Data Scientist   \n",
       "\n",
       "                                        job_location  \\\n",
       "0                                            2-4 Yrs   \n",
       "1                                      Not disclosed   \n",
       "2  Kolkata, Mumbai, Hyderabad/Secunderabad, Pune,...   \n",
       "3                                            4-7 Yrs   \n",
       "4                                      Not disclosed   \n",
       "5  Kolkata, Mumbai, Hyderabad/Secunderabad, Pune,...   \n",
       "6                                           9-14 Yrs   \n",
       "7                                      Not disclosed   \n",
       "8  Hyderabad/Secunderabad, Pune, Chennai, Bangalo...   \n",
       "9                                           5-10 Yrs   \n",
       "\n",
       "                                      required_skill             company_name  \\\n",
       "0  Must Have Knowledge of statistical techniques ...                Accenture   \n",
       "1               Must Have Advanced Analytical skills                Accenture   \n",
       "2  Technical Skills: Expert database administrati...                  Mphasis   \n",
       "3  Develop and plan required analytic projects in...                      P&G   \n",
       "4  Work with OMICs, image, med device and RWE dat...               CitiusTech   \n",
       "5  Candidate should hold Bachelor s Degree in Tec...  Boston Consulting Group   \n",
       "6  Roles and Responsibilities Job Description / R...                    Wipro   \n",
       "7  Experience in data miningProven experience as ...            Tech Mahindra   \n",
       "8  10 years experience in data science and MLAcad...        Fractal Analytics   \n",
       "9  As a Senior Data Scientist, you will be respon...             Baker Hughes   \n",
       "\n",
       "                                 experience_required  \n",
       "0                                            2-4 Yrs  \n",
       "1                                      Not disclosed  \n",
       "2  Kolkata, Mumbai, Hyderabad/Secunderabad, Pune,...  \n",
       "3                                            4-7 Yrs  \n",
       "4                                      Not disclosed  \n",
       "5  Kolkata, Mumbai, Hyderabad/Secunderabad, Pune,...  \n",
       "6                                           9-14 Yrs  \n",
       "7                                      Not disclosed  \n",
       "8  Hyderabad/Secunderabad, Pune, Chennai, Bangalo...  \n",
       "9                                           5-10 Yrs  "
      ]
     },
     "execution_count": 14,
     "metadata": {},
     "output_type": "execute_result"
    }
   ],
   "source": [
    "#creating dataframe\n",
    "df=pd.DataFrame({'job_title':job_title,'job_location':job_location,'required_skill':required_skill,'company_name':company_name,'experience_required':experience_required})\n",
    "df"
   ]
  },
  {
   "cell_type": "code",
   "execution_count": null,
   "id": "88d6a355",
   "metadata": {},
   "outputs": [],
   "source": []
  }
 ],
 "metadata": {
  "kernelspec": {
   "display_name": "Python 3 (ipykernel)",
   "language": "python",
   "name": "python3"
  },
  "language_info": {
   "codemirror_mode": {
    "name": "ipython",
    "version": 3
   },
   "file_extension": ".py",
   "mimetype": "text/x-python",
   "name": "python",
   "nbconvert_exporter": "python",
   "pygments_lexer": "ipython3",
   "version": "3.9.12"
  }
 },
 "nbformat": 4,
 "nbformat_minor": 5
}
