{
 "cells": [
  {
   "cell_type": "code",
   "execution_count": null,
   "id": "972d027a",
   "metadata": {},
   "outputs": [],
   "source": [
    "#Q10: Write a python program to scrape the salary data for Data Scientist designation.\n",
    "#You have to scrape Company name, Number of salaries, Average salary, Minsalary, Max Salary.\n",
    "#The above task will be, done as shown in the below steps:\n",
    "#1. First get the webpage https://www.ambitionbox.com/\n",
    "#2. Click on the salaries option as shown in the image.\n",
    "#3. After reaching to the following webpage, In place of “Search Job Profile” enters “Data Scientist” and\n",
    "then click on “Data Scientist”.\n",
    "You have to scrape the data ticked in the above image.\n",
    "#4. Scrape the data for the first 10 companies. Scrape the company name, total salary record, average\n",
    "salary, minimum salary, maximum salary, experience required.\n",
    "#5. Store the data in a dataframe."
   ]
  },
  {
   "cell_type": "code",
   "execution_count": 1,
   "id": "4f6b8a3b",
   "metadata": {},
   "outputs": [],
   "source": [
    "import selenium\n",
    "import pandas as pd \n",
    "from selenium import webdriver\n",
    "import warnings\n",
    "warnings.filterwarnings('ignore')\n",
    "from selenium.common.exceptions import StaleElementReferenceException, NoSuchElementException\n",
    "from selenium.webdriver.common.by import By\n",
    "import time"
   ]
  },
  {
   "cell_type": "code",
   "execution_count": 2,
   "id": "29a1e663",
   "metadata": {},
   "outputs": [],
   "source": [
    "driver=webdriver.Chrome(r\"F:\\flip robo\\chromedriver.exe\")"
   ]
  },
  {
   "cell_type": "code",
   "execution_count": 3,
   "id": "d426f7be",
   "metadata": {},
   "outputs": [],
   "source": [
    "driver.get(\"https://www.ambitionbox.com/\")"
   ]
  },
  {
   "cell_type": "code",
   "execution_count": 7,
   "id": "c745b8ee",
   "metadata": {},
   "outputs": [],
   "source": [
    "salary=driver.find_element(By.XPATH,'/html/body/div/div/div/div[1]/header/nav/ul/li[3]')\n",
    "salary.click()"
   ]
  },
  {
   "cell_type": "code",
   "execution_count": 20,
   "id": "569996df",
   "metadata": {},
   "outputs": [],
   "source": [
    "designation=driver.find_element(By.XPATH,\"/html/body/div/div/div/main/section[1]/div[2]/div[1]/span/input\")\n",
    "designation.send_keys('Data scientist')"
   ]
  },
  {
   "cell_type": "code",
   "execution_count": 42,
   "id": "a20404c9",
   "metadata": {},
   "outputs": [],
   "source": [
    "company_name=[]\n",
    "total_salary=[] \n",
    "average_salary=[]\n",
    "experience_required=[]"
   ]
  },
  {
   "cell_type": "code",
   "execution_count": 43,
   "id": "f5467fe2",
   "metadata": {},
   "outputs": [],
   "source": [
    "#scraping company info from the given page\n",
    "name_tags=driver.find_elements(By.XPATH,'//div[@class=\"company-info\"]')\n",
    "for i in name_tags[0:10]:\n",
    "    name=i.text\n",
    "    company_name.append(name)\n",
    "    "
   ]
  },
  {
   "cell_type": "code",
   "execution_count": 44,
   "id": "91cdf8c7",
   "metadata": {},
   "outputs": [],
   "source": [
    "#Scraping total salary from the given page\n",
    "salary_tags=driver.find_elements(By.XPATH,'//div[@class=\"value body-medium\"]')\n",
    "for i in salary_tags[0:10]:\n",
    "    salary=i.text\n",
    "    total_salary.append(salary)"
   ]
  },
  {
   "cell_type": "code",
   "execution_count": 45,
   "id": "1bc4cc86",
   "metadata": {},
   "outputs": [],
   "source": [
    "#scraping average salarys from the given page\n",
    "salary_tags=driver.find_elements(By.XPATH,'//p[@class=\"averageCtc\"]')\n",
    "for i in salary_tags[0:10]:\n",
    "    salarys=i.text\n",
    "    average_salary.append(salary)\n",
    "    "
   ]
  },
  {
   "cell_type": "code",
   "execution_count": 46,
   "id": "12ff498c",
   "metadata": {},
   "outputs": [],
   "source": [
    "#scraping experience required from the given page\n",
    "required_tags=driver.find_elements(By.XPATH,'//div[@class=\"sbold-list-header\"]')\n",
    "for i in required_tags[0:10]:\n",
    "    required=i.text\n",
    "    experience_required.append(required)"
   ]
  },
  {
   "cell_type": "code",
   "execution_count": 47,
   "id": "b7444eb7",
   "metadata": {},
   "outputs": [
    {
     "name": "stdout",
     "output_type": "stream",
     "text": [
      "10 10 10 10\n"
     ]
    }
   ],
   "source": [
    "print(len(company_name),len(total_salary),len(average_salary),len(experience_required))"
   ]
  },
  {
   "cell_type": "code",
   "execution_count": 48,
   "id": "3fbdb300",
   "metadata": {},
   "outputs": [
    {
     "data": {
      "text/html": [
       "<div>\n",
       "<style scoped>\n",
       "    .dataframe tbody tr th:only-of-type {\n",
       "        vertical-align: middle;\n",
       "    }\n",
       "\n",
       "    .dataframe tbody tr th {\n",
       "        vertical-align: top;\n",
       "    }\n",
       "\n",
       "    .dataframe thead th {\n",
       "        text-align: right;\n",
       "    }\n",
       "</style>\n",
       "<table border=\"1\" class=\"dataframe\">\n",
       "  <thead>\n",
       "    <tr style=\"text-align: right;\">\n",
       "      <th></th>\n",
       "      <th>company_name</th>\n",
       "      <th>total_salary</th>\n",
       "      <th>average_salary</th>\n",
       "      <th>experience_required</th>\n",
       "    </tr>\n",
       "  </thead>\n",
       "  <tbody>\n",
       "    <tr>\n",
       "      <th>0</th>\n",
       "      <td>Walmart\\nData Scientist Salary\\n3-4 yrs experi...</td>\n",
       "      <td>₹ 25.0L</td>\n",
       "      <td>₹ 23.0L</td>\n",
       "      <td>3-4 yrs experience (based on 23 salaries)</td>\n",
       "    </tr>\n",
       "    <tr>\n",
       "      <th>1</th>\n",
       "      <td>Ab Inbev\\nData Scientist Salary\\n2-4 yrs exper...</td>\n",
       "      <td>₹ 45.0L</td>\n",
       "      <td>₹ 23.0L</td>\n",
       "      <td>2-4 yrs experience (based on 57 salaries)</td>\n",
       "    </tr>\n",
       "    <tr>\n",
       "      <th>2</th>\n",
       "      <td>Optum\\nData Scientist Salary\\n2-4 yrs experien...</td>\n",
       "      <td>₹ 15.0L</td>\n",
       "      <td>₹ 23.0L</td>\n",
       "      <td>2-4 yrs experience (based on 49 salaries)</td>\n",
       "    </tr>\n",
       "    <tr>\n",
       "      <th>3</th>\n",
       "      <td>ZS\\nData Scientist Salary\\n1-2 yrs experience ...</td>\n",
       "      <td>₹ 26.0L</td>\n",
       "      <td>₹ 23.0L</td>\n",
       "      <td>1-2 yrs experience (based on 34 salaries)</td>\n",
       "    </tr>\n",
       "    <tr>\n",
       "      <th>4</th>\n",
       "      <td>Fractal Analytics\\nData Scientist Salary\\n2-4 ...</td>\n",
       "      <td>₹ 11.0L</td>\n",
       "      <td>₹ 23.0L</td>\n",
       "      <td>2-4 yrs experience (based on 115 salaries)</td>\n",
       "    </tr>\n",
       "    <tr>\n",
       "      <th>5</th>\n",
       "      <td>Tiger Analytics\\nData Scientist Salary\\n2-4 yr...</td>\n",
       "      <td>₹ 22.6L</td>\n",
       "      <td>₹ 23.0L</td>\n",
       "      <td>2-4 yrs experience (based on 68 salaries)</td>\n",
       "    </tr>\n",
       "    <tr>\n",
       "      <th>6</th>\n",
       "      <td>Sigmoid Analytics\\nData Scientist Salary\\n1 yr...</td>\n",
       "      <td>₹ 11.0L</td>\n",
       "      <td>₹ 23.0L</td>\n",
       "      <td>1 yr experience (based on 10 salaries)</td>\n",
       "    </tr>\n",
       "    <tr>\n",
       "      <th>7</th>\n",
       "      <td>Legato Health Technologies\\nData Scientist Sal...</td>\n",
       "      <td>₹ 22.0L</td>\n",
       "      <td>₹ 23.0L</td>\n",
       "      <td>4 yrs experience (based on 11 salaries)</td>\n",
       "    </tr>\n",
       "    <tr>\n",
       "      <th>8</th>\n",
       "      <td>HSBC\\nData Scientist Salary\\n4 yrs experience ...</td>\n",
       "      <td>₹ 9.0L</td>\n",
       "      <td>₹ 23.0L</td>\n",
       "      <td>4 yrs experience (based on 10 salaries)</td>\n",
       "    </tr>\n",
       "    <tr>\n",
       "      <th>9</th>\n",
       "      <td>Tredence\\nData Scientist Salary\\n3 yrs experie...</td>\n",
       "      <td>₹ 23.0L</td>\n",
       "      <td>₹ 23.0L</td>\n",
       "      <td>3 yrs experience (based on 14 salaries)</td>\n",
       "    </tr>\n",
       "  </tbody>\n",
       "</table>\n",
       "</div>"
      ],
      "text/plain": [
       "                                        company_name total_salary  \\\n",
       "0  Walmart\\nData Scientist Salary\\n3-4 yrs experi...      ₹ 25.0L   \n",
       "1  Ab Inbev\\nData Scientist Salary\\n2-4 yrs exper...      ₹ 45.0L   \n",
       "2  Optum\\nData Scientist Salary\\n2-4 yrs experien...      ₹ 15.0L   \n",
       "3  ZS\\nData Scientist Salary\\n1-2 yrs experience ...      ₹ 26.0L   \n",
       "4  Fractal Analytics\\nData Scientist Salary\\n2-4 ...      ₹ 11.0L   \n",
       "5  Tiger Analytics\\nData Scientist Salary\\n2-4 yr...      ₹ 22.6L   \n",
       "6  Sigmoid Analytics\\nData Scientist Salary\\n1 yr...      ₹ 11.0L   \n",
       "7  Legato Health Technologies\\nData Scientist Sal...      ₹ 22.0L   \n",
       "8  HSBC\\nData Scientist Salary\\n4 yrs experience ...       ₹ 9.0L   \n",
       "9  Tredence\\nData Scientist Salary\\n3 yrs experie...      ₹ 23.0L   \n",
       "\n",
       "  average_salary                         experience_required  \n",
       "0        ₹ 23.0L   3-4 yrs experience (based on 23 salaries)  \n",
       "1        ₹ 23.0L   2-4 yrs experience (based on 57 salaries)  \n",
       "2        ₹ 23.0L   2-4 yrs experience (based on 49 salaries)  \n",
       "3        ₹ 23.0L   1-2 yrs experience (based on 34 salaries)  \n",
       "4        ₹ 23.0L  2-4 yrs experience (based on 115 salaries)  \n",
       "5        ₹ 23.0L   2-4 yrs experience (based on 68 salaries)  \n",
       "6        ₹ 23.0L      1 yr experience (based on 10 salaries)  \n",
       "7        ₹ 23.0L     4 yrs experience (based on 11 salaries)  \n",
       "8        ₹ 23.0L     4 yrs experience (based on 10 salaries)  \n",
       "9        ₹ 23.0L     3 yrs experience (based on 14 salaries)  "
      ]
     },
     "execution_count": 48,
     "metadata": {},
     "output_type": "execute_result"
    }
   ],
   "source": [
    "#creating dataframe\n",
    "df=pd.DataFrame({'company_name':company_name,'total_salary':total_salary,'average_salary':average_salary,'experience_required':experience_required})\n",
    "df"
   ]
  },
  {
   "cell_type": "code",
   "execution_count": null,
   "id": "143e7b1a",
   "metadata": {},
   "outputs": [],
   "source": []
  }
 ],
 "metadata": {
  "kernelspec": {
   "display_name": "Python 3 (ipykernel)",
   "language": "python",
   "name": "python3"
  },
  "language_info": {
   "codemirror_mode": {
    "name": "ipython",
    "version": 3
   },
   "file_extension": ".py",
   "mimetype": "text/x-python",
   "name": "python",
   "nbconvert_exporter": "python",
   "pygments_lexer": "ipython3",
   "version": "3.9.12"
  }
 },
 "nbformat": 4,
 "nbformat_minor": 5
}
