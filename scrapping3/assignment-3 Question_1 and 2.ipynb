{
 "cells": [
  {
   "cell_type": "code",
   "execution_count": null,
   "id": "dc0915cd",
   "metadata": {},
   "outputs": [],
   "source": [
    "1. Write a python program which searches all the product under a particular product from www.amazon.in.\n",
    "The product to be searched will be taken as input from user. For e.g. If user input is ‘guitar’. Then search\n",
    "for guitars.\n",
    "2. In the above question, now scrape the following details of each product listed in first 3 pages of your\n",
    "search results and save it in a data frame and csv. In case if any product has less than 3 pages in search\n",
    "results then scrape all the products available under that product name. Details to be scraped are: \"Brand\n",
    "Name\", \"Name of the Product\", \"Price\", \"Return/Exchange\", \"Expected Delivery\", \"Availability\" and\n",
    "“Product URL”. In case, if any of the details are missing for any of the product then replace it by “-“."
   ]
  },
  {
   "cell_type": "code",
   "execution_count": 8,
   "id": "047bd1cf",
   "metadata": {},
   "outputs": [],
   "source": [
    "import selenium\n",
    "import pandas as pd \n",
    "from selenium import webdriver\n",
    "import warnings\n",
    "warnings.filterwarnings('ignore')\n",
    "from selenium.common.exceptions import StaleElementReferenceException, NoSuchElementException\n",
    "from selenium.webdriver.common.by import By\n",
    "import time\n",
    "import requests\n",
    "import re"
   ]
  },
  {
   "cell_type": "code",
   "execution_count": 3,
   "id": "3009fa1e",
   "metadata": {},
   "outputs": [
    {
     "name": "stderr",
     "output_type": "stream",
     "text": [
      "C:\\Users\\user\\AppData\\Local\\Temp\\ipykernel_3108\\841791655.py:1: DeprecationWarning: executable_path has been deprecated, please pass in a Service object\n",
      "  driver=webdriver.Chrome(r\"F:\\flip robo\\chromedriver.exe\")\n"
     ]
    }
   ],
   "source": [
    "driver=webdriver.Chrome(r\"F:\\flip robo\\chromedriver.exe\")\n",
    "\n"
   ]
  },
  {
   "cell_type": "code",
   "execution_count": 4,
   "id": "343cec4d",
   "metadata": {},
   "outputs": [],
   "source": [
    "driver.get(\"https://www.amazon.in/\")"
   ]
  },
  {
   "cell_type": "code",
   "execution_count": 9,
   "id": "6da4c293",
   "metadata": {},
   "outputs": [
    {
     "name": "stdout",
     "output_type": "stream",
     "text": [
      "Enter the product:guitar\n"
     ]
    }
   ],
   "source": [
    "product=driver.find_element(By.ID,\"twotabsearchtextbox\")\n",
    "product.send_keys(input(\"Enter the product:\"))"
   ]
  },
  {
   "cell_type": "code",
   "execution_count": 10,
   "id": "999ef250",
   "metadata": {},
   "outputs": [],
   "source": [
    "search=driver.find_element(By.ID,\"nav-search-submit-button\")\n",
    "search.click()"
   ]
  },
  {
   "cell_type": "code",
   "execution_count": 14,
   "id": "7f738bc6",
   "metadata": {},
   "outputs": [],
   "source": [
    "product_urls = []\n",
    "start=0\n",
    "end=3\n",
    "for page in range(start,end):#for loop for scrapping 3 page\n",
    "    url=driver.find_elements(By.XPATH,'//a[@class=\"a-link-normal a-text-normal\"]')       #scraping urls\n",
    "    for i in url:\n",
    "        product_urls.append(i.get_attribute(\"href\"))                        #appending the urls in product_urls list\n",
    "    nxt_button=driver.find_element(By.XPATH,'//a[@class=\"s-pagination-item s-pagination-next s-pagination-button s-pagination-separator\"]')     #scraping the list of buttons from the page\n",
    "    nxt_button.click()\n",
    "    time.sleep(2)"
   ]
  },
  {
   "cell_type": "code",
   "execution_count": 15,
   "id": "04f77d10",
   "metadata": {},
   "outputs": [],
   "source": [
    "#Make empty lists\n",
    "Brand = []   \n",
    "Name = []\n",
    "Rating = []\n",
    "no_of_ratings = []\n",
    "Price = []\n",
    "Return = []\n",
    "expected_delivery = []\n",
    "Availability = [] \n",
    "Other_Details = []"
   ]
  },
  {
   "cell_type": "code",
   "execution_count": 18,
   "id": "d3a85f5f",
   "metadata": {},
   "outputs": [],
   "source": [
    "\n",
    "for url in product_urls:\n",
    "    driver.get(url)\n",
    "    time.sleep(2)\n",
    "    \n",
    "    # Extracting Brand from xpath\n",
    "    try:\n",
    "        brand = driver.find_element(By.XPATH,'//a[@id=\"bylineInfo\"]')      \n",
    "        Brand.append(brand.text)\n",
    "    except NoSuchElementException:\n",
    "        Brand.append('-') \n",
    "        \n",
    "        \n",
    "time.sleep(1)"
   ]
  },
  {
   "cell_type": "code",
   "execution_count": 21,
   "id": "813ca075",
   "metadata": {},
   "outputs": [],
   "source": [
    " # Extracting name from id\n",
    "try:\n",
    "    name = driver.find_element(By.ID,'productTitle')\n",
    "    Name.append(name.text)\n",
    "except NoSuchElementException:\n",
    "    Name.append('-')\n",
    "\n",
    "time.sleep(1)    "
   ]
  },
  {
   "cell_type": "code",
   "execution_count": 23,
   "id": "74a4f2fd",
   "metadata": {},
   "outputs": [],
   "source": [
    " # Extracting Ratings from xpath    \n",
    "try:\n",
    "    rating = driver.find_element(By.XPATH,'//span[@class=\"a-size-base a-nowrap\"]//span')\n",
    "    Rating.append(rating.text)\n",
    "except NoSuchElementException:\n",
    "    Rating.append('-')\n",
    "\n",
    "\n",
    "time.sleep(1)"
   ]
  },
  {
   "cell_type": "code",
   "execution_count": 24,
   "id": "477b34c0",
   "metadata": {},
   "outputs": [],
   "source": [
    "  # Extracting No of Ratings from xpath\n",
    "try:\n",
    "    no_rating = driver.find_element(By.XPATH,'//span[@class=\"a-size-base a-color-secondary\"]')  \n",
    "    no_of_ratings.append(no_rating.text)\n",
    "except NoSuchElementException:\n",
    "    no_of_ratings.append('-')\n",
    "time.sleep(1)"
   ]
  },
  {
   "cell_type": "code",
   "execution_count": 25,
   "id": "60f3c518",
   "metadata": {},
   "outputs": [],
   "source": [
    "# Extracting price from xpath    \n",
    "try:\n",
    "    price = driver.find_element(By.XPATH,'//td[@class=\"a-span12\"]')  \n",
    "    Price.append(price.text)\n",
    "except NoSuchElementException:\n",
    "    Price.append('-')\n",
    "time.sleep(1)"
   ]
  },
  {
   "cell_type": "code",
   "execution_count": 26,
   "id": "c044d4a5",
   "metadata": {},
   "outputs": [],
   "source": [
    " # Extracting Return from xpath\n",
    "try:\n",
    "    return_ = driver.find_element(By.XPATH,'//a[@class=\"a-size-small a-link-normal a-text-normal\"]')  \n",
    "    Return.append(return_.text)\n",
    "except NoSuchElementException:\n",
    "    Return.append('-')\n",
    "time.sleep(1)"
   ]
  },
  {
   "cell_type": "code",
   "execution_count": 27,
   "id": "354d8870",
   "metadata": {},
   "outputs": [],
   "source": [
    "# Extracting expected_delivery from xpath\n",
    "try:\n",
    "    exptd_dlvry= driver.find_element(By.XPATH,'//span[@class=\"a-color-error\"]')  \n",
    "    expected_delivery.append(exptd_dlvry.text)\n",
    "except NoSuchElementException:\n",
    "    expected_delivery.append('-')\n",
    "    \n",
    "time.sleep(1)"
   ]
  },
  {
   "cell_type": "code",
   "execution_count": 28,
   "id": "52c48ecd",
   "metadata": {},
   "outputs": [],
   "source": [
    "# Extracting Availability from xpath         \n",
    "try:\n",
    "    avl= driver.find_element(By.XPATH,'//span[@class=\"a-size-medium a-color-success\"]')  \n",
    "    Availability.append(avl.text)\n",
    "except NoSuchElementException:\n",
    "    Availability.append('-')\n",
    "time.sleep(1)"
   ]
  },
  {
   "cell_type": "code",
   "execution_count": 30,
   "id": "7532a00d",
   "metadata": {},
   "outputs": [],
   "source": [
    "# Extracting Other Details from xpath    \n",
    "try:\n",
    "    othr_dtls= driver.find_element(By.XPATH,'//ul[@class=\"a-unordered-list a-vertical a-spacing-mini\"]')  \n",
    "    Other_Details.append(othr_dtls.text)\n",
    "except NoSuchElementException:\n",
    "    Other_Details.append('-')\n",
    "    \n",
    "time.sleep(2)"
   ]
  },
  {
   "cell_type": "code",
   "execution_count": null,
   "id": "0699f3f9",
   "metadata": {},
   "outputs": [],
   "source": []
  },
  {
   "cell_type": "code",
   "execution_count": null,
   "id": "31cea400",
   "metadata": {},
   "outputs": [],
   "source": []
  }
 ],
 "metadata": {
  "kernelspec": {
   "display_name": "Python 3 (ipykernel)",
   "language": "python",
   "name": "python3"
  },
  "language_info": {
   "codemirror_mode": {
    "name": "ipython",
    "version": 3
   },
   "file_extension": ".py",
   "mimetype": "text/x-python",
   "name": "python",
   "nbconvert_exporter": "python",
   "pygments_lexer": "ipython3",
   "version": "3.9.12"
  }
 },
 "nbformat": 4,
 "nbformat_minor": 5
}
