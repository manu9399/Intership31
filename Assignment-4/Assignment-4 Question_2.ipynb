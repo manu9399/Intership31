{
 "cells": [
  {
   "cell_type": "code",
   "execution_count": null,
   "id": "7b87ba48",
   "metadata": {},
   "outputs": [],
   "source": [
    "#Q2. Scrape the details team India’s international fixtures from bcci.tv\n",
    "#A) Match title (I.e. 1\n",
    "#st ODI)\n",
    "#B) Series\n",
    "#C) Place\n",
    "#D) Date\n",
    "#E) Time"
   ]
  },
  {
   "cell_type": "code",
   "execution_count": 1,
   "id": "4bb27c2d",
   "metadata": {},
   "outputs": [],
   "source": [
    "import selenium\n",
    "import pandas as pd \n",
    "from selenium import webdriver\n",
    "import warnings\n",
    "warnings.filterwarnings('ignore')\n",
    "from selenium.common.exceptions import StaleElementReferenceException, NoSuchElementException\n",
    "from selenium.webdriver.common.by import By\n",
    "import time"
   ]
  },
  {
   "cell_type": "code",
   "execution_count": 2,
   "id": "c955f35b",
   "metadata": {},
   "outputs": [],
   "source": [
    "driver=webdriver.Chrome(r\"F:\\flip robo\\chromedriver.exe\")"
   ]
  },
  {
   "cell_type": "code",
   "execution_count": 3,
   "id": "cae03994",
   "metadata": {},
   "outputs": [],
   "source": [
    "driver.get(\"https://www.bcci.tv/\")"
   ]
  },
  {
   "cell_type": "code",
   "execution_count": 4,
   "id": "2a43860d",
   "metadata": {},
   "outputs": [],
   "source": [
    "search=driver.find_element(By.CLASS_NAME,\"nav-link \")\n",
    "search.click()"
   ]
  },
  {
   "cell_type": "code",
   "execution_count": 29,
   "id": "8ddd3daf",
   "metadata": {},
   "outputs": [],
   "source": [
    "Matchee_title=[] \n",
    "Series_name=[]\n",
    "Match_Place=[]\n",
    "Matchs_Date=[]\n",
    "Matche_Time=[]"
   ]
  },
  {
   "cell_type": "code",
   "execution_count": 30,
   "id": "c23032bd",
   "metadata": {},
   "outputs": [],
   "source": [
    "#scraping Match titile\n",
    "title_tags=driver.find_elements(By.XPATH,'//span[@class=\"matchOrderText ng-binding ng-scope\"]')\n",
    "for i in title_tags:\n",
    "    title=i.text\n",
    "    Matchee_title.append(title)"
   ]
  },
  {
   "cell_type": "code",
   "execution_count": 31,
   "id": "fa10df10",
   "metadata": {},
   "outputs": [
    {
     "data": {
      "text/plain": [
       "['1st T20I -',\n",
       " '2nd T20I -',\n",
       " '2nd T20I -',\n",
       " '3rd T20I -',\n",
       " '3rd T20I -',\n",
       " '1st ODI -',\n",
       " '4th T20I -',\n",
       " '5th T20I -']"
      ]
     },
     "execution_count": 31,
     "metadata": {},
     "output_type": "execute_result"
    }
   ],
   "source": [
    "Matchee_title"
   ]
  },
  {
   "cell_type": "code",
   "execution_count": 9,
   "id": "2f62ca91",
   "metadata": {},
   "outputs": [],
   "source": [
    "#scraping Series name\n",
    "name_tags=driver.find_elements(By.XPATH,'//span[@class=\"ng-binding\"]')\n",
    "for i in name_tags:\n",
    "    name=i.text\n",
    "    Series_name.append(name)"
   ]
  },
  {
   "cell_type": "code",
   "execution_count": 10,
   "id": "dbe36131",
   "metadata": {},
   "outputs": [
    {
     "data": {
      "text/plain": [
       "['ASIA CUP WOMENS 2022',\n",
       " 'SOUTH AFRICA TOUR OF INDIA T20 SERIES 2022-23',\n",
       " 'ASIA CUP WOMENS 2022',\n",
       " 'ASIA CUP WOMENS 2022',\n",
       " 'SOUTH AFRICA TOUR OF INDIA T20 SERIES 2022-23',\n",
       " 'SOUTH AFRICA TOUR OF INDIA ODI SERIES 2022-23',\n",
       " 'ASIA CUP WOMENS 2022',\n",
       " 'ASIA CUP WOMENS 2022']"
      ]
     },
     "execution_count": 10,
     "metadata": {},
     "output_type": "execute_result"
    }
   ],
   "source": [
    "Series_name"
   ]
  },
  {
   "cell_type": "code",
   "execution_count": 11,
   "id": "e85b12a6",
   "metadata": {},
   "outputs": [],
   "source": [
    "#scraping Match place\n",
    "Place_tags=driver.find_elements(By.XPATH,'//span[@class=\"ng-binding ng-scope\"]')\n",
    "for i in Place_tags:\n",
    "    Place=i.text\n",
    "    Match_Place.append(Place)"
   ]
  },
  {
   "cell_type": "code",
   "execution_count": 12,
   "id": "2765f37d",
   "metadata": {},
   "outputs": [
    {
     "data": {
      "text/plain": [
       "['Sylhet Outer Cricket Stadium,',\n",
       " 'Barsapara Cricket Stadium,',\n",
       " 'Sylhet Outer Cricket Stadium,',\n",
       " 'Sylhet Outer Cricket Stadium,',\n",
       " 'Holkar Cricket Stadium,',\n",
       " 'Bharat Ratna Shri Atal Bihari Vajpayee Ekana Cricket Stadium,',\n",
       " 'Sylhet International Cricket Stadium,',\n",
       " 'Sylhet International Cricket Stadium,']"
      ]
     },
     "execution_count": 12,
     "metadata": {},
     "output_type": "execute_result"
    }
   ],
   "source": [
    "Match_Place"
   ]
  },
  {
   "cell_type": "code",
   "execution_count": 22,
   "id": "0c15d984",
   "metadata": {},
   "outputs": [],
   "source": [
    "#scraping Match_Date\n",
    "Date_tags=driver.find_elements(By.XPATH,'//div[@class=\"match-card-left match-schedule\"]')\n",
    "for i in Date_tags:\n",
    "    Date=i.text\n",
    "    Matchs_Date.append(Date)"
   ]
  },
  {
   "cell_type": "code",
   "execution_count": 24,
   "id": "6a4763f3",
   "metadata": {},
   "outputs": [
    {
     "data": {
      "text/plain": [
       "['1 OCT 2022',\n",
       " '2 OCT 2022',\n",
       " '3 OCT 2022',\n",
       " '4 OCT 2022',\n",
       " '4 OCT 2022',\n",
       " '6 OCT 2022',\n",
       " '7 OCT 2022',\n",
       " '8 OCT 2022']"
      ]
     },
     "execution_count": 24,
     "metadata": {},
     "output_type": "execute_result"
    }
   ],
   "source": [
    "Matchs_Date"
   ]
  },
  {
   "cell_type": "code",
   "execution_count": 26,
   "id": "f244ca3c",
   "metadata": {},
   "outputs": [],
   "source": [
    "#scraping Match_Time\n",
    "Time_tags=driver.find_elements(By.XPATH,'//div[@class=\"match-card-right match-schedule \"]')\n",
    "for i in Time_tags:\n",
    "    Time=i.text\n",
    "    Matche_Time.append(Time)"
   ]
  },
  {
   "cell_type": "code",
   "execution_count": 27,
   "id": "bf99bff7",
   "metadata": {},
   "outputs": [
    {
     "data": {
      "text/plain": [
       "['1:00 PM IST',\n",
       " '7:00 PM IST',\n",
       " '1:00 PM IST',\n",
       " '1:00 PM IST',\n",
       " '7:00 PM IST',\n",
       " '1:30 PM IST',\n",
       " '1:00 PM IST',\n",
       " '1:00 PM IST']"
      ]
     },
     "execution_count": 27,
     "metadata": {},
     "output_type": "execute_result"
    }
   ],
   "source": [
    "Matche_Time"
   ]
  },
  {
   "cell_type": "code",
   "execution_count": null,
   "id": "38e18573",
   "metadata": {},
   "outputs": [],
   "source": []
  },
  {
   "cell_type": "code",
   "execution_count": null,
   "id": "37c1e97c",
   "metadata": {},
   "outputs": [],
   "source": []
  }
 ],
 "metadata": {
  "kernelspec": {
   "display_name": "Python 3 (ipykernel)",
   "language": "python",
   "name": "python3"
  },
  "language_info": {
   "codemirror_mode": {
    "name": "ipython",
    "version": 3
   },
   "file_extension": ".py",
   "mimetype": "text/x-python",
   "name": "python",
   "nbconvert_exporter": "python",
   "pygments_lexer": "ipython3",
   "version": "3.9.12"
  }
 },
 "nbformat": 4,
 "nbformat_minor": 5
}
