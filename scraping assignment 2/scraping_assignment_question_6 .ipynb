{
 "cells": [
  {
   "cell_type": "code",
   "execution_count": null,
   "id": "bcd0c8c4",
   "metadata": {},
   "outputs": [],
   "source": [
    "#Q6: Scrape data for first 100 sneakers you find when you visit flipkart.com and search for “sneakers” in the\n",
    "#search field.\n",
    "#You have to scrape 4 attributes of each sneaker:\n",
    "#1. Brand\n",
    "#2. Product Description\n",
    "#3. Price"
   ]
  },
  {
   "cell_type": "code",
   "execution_count": 1,
   "id": "c1fce8d6",
   "metadata": {},
   "outputs": [],
   "source": [
    "import selenium\n",
    "import pandas as pd \n",
    "from selenium import webdriver\n",
    "import warnings\n",
    "warnings.filterwarnings('ignore')\n",
    "from selenium.common.exceptions import StaleElementReferenceException, NoSuchElementException\n",
    "from selenium.webdriver.common.by import By\n",
    "import time"
   ]
  },
  {
   "cell_type": "code",
   "execution_count": 2,
   "id": "b62a3120",
   "metadata": {},
   "outputs": [],
   "source": [
    "driver=webdriver.Chrome(r\"F:\\flip robo\\chromedriver.exe\")"
   ]
  },
  {
   "cell_type": "code",
   "execution_count": 3,
   "id": "732747f1",
   "metadata": {},
   "outputs": [],
   "source": [
    "driver.get(\"http://www.flipkart.com/\")"
   ]
  },
  {
   "cell_type": "code",
   "execution_count": 4,
   "id": "7a6ab890",
   "metadata": {},
   "outputs": [],
   "source": [
    "product=driver.find_element(By.CLASS_NAME,\"_3704LK\")\n",
    "product.send_keys('sneakers')"
   ]
  },
  {
   "cell_type": "code",
   "execution_count": 5,
   "id": "d6033a66",
   "metadata": {},
   "outputs": [],
   "source": [
    "search=driver.find_element(By.CLASS_NAME,\"_34RNph\")\n",
    "search.click()"
   ]
  },
  {
   "cell_type": "code",
   "execution_count": 6,
   "id": "91aa4635",
   "metadata": {},
   "outputs": [],
   "source": [
    "shoes_brand=[]\n",
    "product_discription=[]\n",
    "shoes_price=[]\n"
   ]
  },
  {
   "cell_type": "code",
   "execution_count": 7,
   "id": "a3c9fff0",
   "metadata": {},
   "outputs": [],
   "source": [
    "#scraping shoes brand from the given page\n",
    "start=0\n",
    "end=5\n",
    "for page in range(start,end):\n",
    "    brand=driver.find_elements(By.XPATH,'//div[@class=\"_2WkVRV\"]')\n",
    "    for i in brand[0:20]:\n",
    "        shoes_brand.append(i.text)\n",
    "    next_button=driver.find_element(By.XPATH,'//a[@class=\"_1LKTO3\"]')\n",
    "    next_button.click()\n",
    "    time.sleep(3)\n",
    "    \n",
    "    \n",
    "    \n",
    "    "
   ]
  },
  {
   "cell_type": "code",
   "execution_count": 8,
   "id": "4ef8218b",
   "metadata": {},
   "outputs": [],
   "source": [
    "#scraping product discription from the given page\n",
    "start=0\n",
    "end=5\n",
    "for page in range(start,end):\n",
    "    discription=driver.find_elements(By.XPATH,'//a[@class=\"IRpwTa\"]')\n",
    "    for i in discription[0:20]:\n",
    "        product_discription.append(i.text)\n",
    "    next_button=driver.find_element(By.XPATH,'//a[@class=\"_1LKTO3\"]')\n",
    "    next_button.click()\n",
    "    time.sleep(3)"
   ]
  },
  {
   "cell_type": "code",
   "execution_count": 9,
   "id": "5f45a1a0",
   "metadata": {},
   "outputs": [],
   "source": [
    "#scraping Glass price from the given page\n",
    "start=0\n",
    "end=5\n",
    "for page in range(start,end):\n",
    "    price=driver.find_elements(By.XPATH,'//div[@class=\"_30jeq3\"]')\n",
    "    for i in price[0:20]:\n",
    "        shoes_price.append(i.text)\n",
    "    next_button=driver.find_element(By.XPATH,'//a[@class=\"_1LKTO3\"]')\n",
    "    next_button.click()\n",
    "    time.sleep(3)"
   ]
  },
  {
   "cell_type": "code",
   "execution_count": 10,
   "id": "88bd7588",
   "metadata": {},
   "outputs": [
    {
     "name": "stdout",
     "output_type": "stream",
     "text": [
      "100 100 100\n"
     ]
    }
   ],
   "source": [
    "print(len(shoes_brand),len(product_discription),len(shoes_price))"
   ]
  },
  {
   "cell_type": "code",
   "execution_count": 11,
   "id": "363b93fd",
   "metadata": {},
   "outputs": [
    {
     "data": {
      "text/html": [
       "<div>\n",
       "<style scoped>\n",
       "    .dataframe tbody tr th:only-of-type {\n",
       "        vertical-align: middle;\n",
       "    }\n",
       "\n",
       "    .dataframe tbody tr th {\n",
       "        vertical-align: top;\n",
       "    }\n",
       "\n",
       "    .dataframe thead th {\n",
       "        text-align: right;\n",
       "    }\n",
       "</style>\n",
       "<table border=\"1\" class=\"dataframe\">\n",
       "  <thead>\n",
       "    <tr style=\"text-align: right;\">\n",
       "      <th></th>\n",
       "      <th>shoes_brand</th>\n",
       "      <th>product_discription</th>\n",
       "      <th>shoes_price</th>\n",
       "    </tr>\n",
       "  </thead>\n",
       "  <tbody>\n",
       "    <tr>\n",
       "      <th>0</th>\n",
       "      <td>BIRDE</td>\n",
       "      <td>Sneakers For Men</td>\n",
       "      <td>₹399</td>\n",
       "    </tr>\n",
       "    <tr>\n",
       "      <th>1</th>\n",
       "      <td>EZDEZARIO</td>\n",
       "      <td>Sneakers For Men</td>\n",
       "      <td>₹2,029</td>\n",
       "    </tr>\n",
       "    <tr>\n",
       "      <th>2</th>\n",
       "      <td>HOTSTYLE</td>\n",
       "      <td>Exclusive Sneaker Shoes Sneakers For Men</td>\n",
       "      <td>₹292</td>\n",
       "    </tr>\n",
       "    <tr>\n",
       "      <th>3</th>\n",
       "      <td>BRUTON</td>\n",
       "      <td>Mens Sneakers Shoes, Casual Shoes Sneakers For...</td>\n",
       "      <td>₹179</td>\n",
       "    </tr>\n",
       "    <tr>\n",
       "      <th>4</th>\n",
       "      <td>Shozie</td>\n",
       "      <td>Men White Sneakers Sneakers For Men</td>\n",
       "      <td>₹389</td>\n",
       "    </tr>\n",
       "    <tr>\n",
       "      <th>...</th>\n",
       "      <td>...</td>\n",
       "      <td>...</td>\n",
       "      <td>...</td>\n",
       "    </tr>\n",
       "    <tr>\n",
       "      <th>95</th>\n",
       "      <td>KWIK FIT</td>\n",
       "      <td>Men Stylish Sneakers Sneakers For Men</td>\n",
       "      <td>₹358</td>\n",
       "    </tr>\n",
       "    <tr>\n",
       "      <th>96</th>\n",
       "      <td>Layasa</td>\n",
       "      <td>Casual Sneakers White Outdoor Shoes For Boys A...</td>\n",
       "      <td>₹199</td>\n",
       "    </tr>\n",
       "    <tr>\n",
       "      <th>97</th>\n",
       "      <td>PUMA</td>\n",
       "      <td>Men Stylish Sneakers Casual Shoes Sneakers For...</td>\n",
       "      <td>₹1,949</td>\n",
       "    </tr>\n",
       "    <tr>\n",
       "      <th>98</th>\n",
       "      <td>Deals4you</td>\n",
       "      <td>X-Ray Game Wmn s Valentine s Sneakers For Women</td>\n",
       "      <td>₹297</td>\n",
       "    </tr>\n",
       "    <tr>\n",
       "      <th>99</th>\n",
       "      <td>Layasa</td>\n",
       "      <td>Casuals, Canvas, Partywear Sneakers For Men</td>\n",
       "      <td>₹399</td>\n",
       "    </tr>\n",
       "  </tbody>\n",
       "</table>\n",
       "<p>100 rows × 3 columns</p>\n",
       "</div>"
      ],
      "text/plain": [
       "   shoes_brand                                product_discription shoes_price\n",
       "0        BIRDE                                   Sneakers For Men        ₹399\n",
       "1    EZDEZARIO                                   Sneakers For Men      ₹2,029\n",
       "2     HOTSTYLE           Exclusive Sneaker Shoes Sneakers For Men        ₹292\n",
       "3       BRUTON  Mens Sneakers Shoes, Casual Shoes Sneakers For...        ₹179\n",
       "4       Shozie                Men White Sneakers Sneakers For Men        ₹389\n",
       "..         ...                                                ...         ...\n",
       "95    KWIK FIT              Men Stylish Sneakers Sneakers For Men        ₹358\n",
       "96      Layasa  Casual Sneakers White Outdoor Shoes For Boys A...        ₹199\n",
       "97        PUMA  Men Stylish Sneakers Casual Shoes Sneakers For...      ₹1,949\n",
       "98   Deals4you    X-Ray Game Wmn s Valentine s Sneakers For Women        ₹297\n",
       "99      Layasa        Casuals, Canvas, Partywear Sneakers For Men        ₹399\n",
       "\n",
       "[100 rows x 3 columns]"
      ]
     },
     "execution_count": 11,
     "metadata": {},
     "output_type": "execute_result"
    }
   ],
   "source": [
    "#creating dataframe\n",
    "df=pd.DataFrame({'shoes_brand':shoes_brand,'product_discription':product_discription,'shoes_price':shoes_price})\n",
    "df"
   ]
  },
  {
   "cell_type": "code",
   "execution_count": null,
   "id": "416bb310",
   "metadata": {},
   "outputs": [],
   "source": []
  }
 ],
 "metadata": {
  "kernelspec": {
   "display_name": "Python 3 (ipykernel)",
   "language": "python",
   "name": "python3"
  },
  "language_info": {
   "codemirror_mode": {
    "name": "ipython",
    "version": 3
   },
   "file_extension": ".py",
   "mimetype": "text/x-python",
   "name": "python",
   "nbconvert_exporter": "python",
   "pygments_lexer": "ipython3",
   "version": "3.9.12"
  }
 },
 "nbformat": 4,
 "nbformat_minor": 5
}
