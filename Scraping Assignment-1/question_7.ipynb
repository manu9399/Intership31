{
 "cells": [
  {
   "cell_type": "code",
   "execution_count": 1,
   "id": "61662fe9",
   "metadata": {},
   "outputs": [],
   "source": [
    "#Write a python program to scrape mentioned news details from https://www.cnbc.com/world/?region=world?\n",
    "import requests\n",
    "from bs4 import BeautifulSoup\n",
    "import pandas as pd"
   ]
  },
  {
   "cell_type": "code",
   "execution_count": 2,
   "id": "c273a6bc",
   "metadata": {},
   "outputs": [
    {
     "data": {
      "text/plain": [
       "<Response [200]>"
      ]
     },
     "execution_count": 2,
     "metadata": {},
     "output_type": "execute_result"
    }
   ],
   "source": [
    "url=\"https://www.cnbc.com/world/?region=world\"\n",
    "\n",
    "r=requests.get(\"https://www.cnbc.com/world/?region=world\")\n",
    "r"
   ]
  },
  {
   "cell_type": "code",
   "execution_count": 3,
   "id": "0a1298e0",
   "metadata": {},
   "outputs": [],
   "source": [
    "soup=BeautifulSoup(r.content)\n",
    "htmlContent=r.content"
   ]
  },
  {
   "cell_type": "code",
   "execution_count": 4,
   "id": "ebd0ebfa",
   "metadata": {},
   "outputs": [],
   "source": [
    "bs=BeautifulSoup(htmlContent,'html.parser')"
   ]
  },
  {
   "cell_type": "code",
   "execution_count": 5,
   "id": "98605b86",
   "metadata": {},
   "outputs": [
    {
     "name": "stdout",
     "output_type": "stream",
     "text": [
      "List all the headline tags :\n",
      "\n",
      "<h2 class=\"FeaturedCard-packagedCardTitle\"><a href=\"https://www.cnbc.com/2022/09/03/europe-ready-to-react-to-halted-russian-gas-supplies-official-says.html\" title=\"EU economics chief says bloc is not afraid of Putin, ready to react over halted Russian gas supplies\">EU economics chief says bloc is not afraid of Putin, ready to react over halted Russian gas supplies</a></h2>\n",
      "\n",
      "<h2><span>Latest News</span></h2>\n",
      "\n",
      "<h2 class=\"QuoteFinder-title\">QUOTE FINDER</h2>\n",
      "\n",
      "<h2><a href=\"//www.cnbc.com/us-market-movers/\">Markets</a></h2>\n",
      "\n",
      "<h3 class=\"MarketMovers-title\"><a href=\"/us-market-movers/\">Market MOVERS</a></h3>\n",
      "\n",
      "<h3 class=\"TableHeader-title\">Most Active</h3>\n",
      "\n",
      "<h3 class=\"TableHeader-title\">Unusual Volume</h3>\n",
      "\n",
      "<h3 class=\"MarketNews-title\"><a href=\"/stocks/\">Latest Market News</a></h3>\n",
      "\n",
      "<h3 class=\"FeaturedBreaker-headingText\"><a class=\"FeaturedBreaker-headingLink\" href=\"https://www.cnbc.com/special-reports/\">Special Reports</a></h3>\n",
      "\n",
      "<h2 class=\"TrendingNow-heading\">Trending Now</h2>\n",
      "\n",
      "<h2 class=\"SectionWrapper-title\"><a href=\"https://www.cnbc.com/pro/news/\">Pro News and Analysis</a></h2>\n",
      "\n",
      "<h2 class=\"SectionWrapper-title\"><a href=\"https://www.cnbc.com/sustainable-future/\">Sustainable Future</a></h2>\n",
      "\n",
      "<h2 class=\"SectionWrapper-title\"><a href=\"https://www.cnbc.com/coronavirus/\">Coronavirus</a></h2>\n",
      "\n",
      "<h2 class=\"SectionWrapper-title\"><a href=\"https://www.cnbc.com/cnbc-travel/\">CNBC Travel</a></h2>\n",
      "\n",
      "<h2 class=\"SectionWrapper-title\"><a href=\"https://www.cnbc.com/make-it/\">Make It</a></h2>\n",
      "\n",
      "<h2 class=\"SectionWrapper-title\"><a href=\"https://www.cnbc.com/investing-in-supertrends/\">Investing in supertrends</a></h2>\n",
      "\n",
      "<h4 class=\"CNBCFooter-smallHeader\">News Tips</h4>\n",
      "\n",
      "<h4 class=\"CNBCFooter-smallHeader\">Advertise With Us</h4>\n",
      "\n",
      "<h4 class=\"CNBCFooter-newsletter CNBCFooter-smallHeader\"><span class=\"icon-newsletter CNBCFooter-newsletterIcon\"></span><span class=\"CNBCFooter-newsletterTitle\">CNBC Newsletters</span></h4>\n"
     ]
    }
   ],
   "source": [
    "titles = bs.find_all(['h1', 'h2','h3','h4','h5','h6'])\n",
    "print('List all the headline tags :', *titles, sep='\\n\\n')"
   ]
  },
  {
   "cell_type": "code",
   "execution_count": null,
   "id": "c0938986",
   "metadata": {},
   "outputs": [],
   "source": []
  }
 ],
 "metadata": {
  "kernelspec": {
   "display_name": "Python 3 (ipykernel)",
   "language": "python",
   "name": "python3"
  },
  "language_info": {
   "codemirror_mode": {
    "name": "ipython",
    "version": 3
   },
   "file_extension": ".py",
   "mimetype": "text/x-python",
   "name": "python",
   "nbconvert_exporter": "python",
   "pygments_lexer": "ipython3",
   "version": "3.9.12"
  }
 },
 "nbformat": 4,
 "nbformat_minor": 5
}
