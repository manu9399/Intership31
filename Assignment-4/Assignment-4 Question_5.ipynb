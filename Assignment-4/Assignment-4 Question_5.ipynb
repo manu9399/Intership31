{
 "cells": [
  {
   "cell_type": "code",
   "execution_count": null,
   "id": "198e7f5e",
   "metadata": {},
   "outputs": [],
   "source": []
  },
  {
   "cell_type": "code",
   "execution_count": 1,
   "id": "38f4bcd2",
   "metadata": {},
   "outputs": [],
   "source": [
    "import selenium\n",
    "import pandas as pd \n",
    "from selenium import webdriver\n",
    "import warnings\n",
    "warnings.filterwarnings('ignore')\n",
    "from selenium.common.exceptions import StaleElementReferenceException, NoSuchElementException\n",
    "from selenium.webdriver.common.by import By\n",
    "import time"
   ]
  },
  {
   "cell_type": "code",
   "execution_count": 2,
   "id": "d91d930a",
   "metadata": {},
   "outputs": [],
   "source": [
    "driver=webdriver.Chrome(r\"F:\\flip robo\\chromedriver.exe\")"
   ]
  },
  {
   "cell_type": "code",
   "execution_count": 4,
   "id": "337ed59e",
   "metadata": {},
   "outputs": [],
   "source": [
    "driver.get(\"https://github.com/\")"
   ]
  },
  {
   "cell_type": "code",
   "execution_count": 5,
   "id": "73fa0bf6",
   "metadata": {},
   "outputs": [],
   "source": [
    "search=driver.find_element(By.XPATH,\"/html/body/div[1]/header/div/div[2]/div/nav/ul/li[3]/button\")\n",
    "search.click()"
   ]
  },
  {
   "cell_type": "code",
   "execution_count": 28,
   "id": "171f22e4",
   "metadata": {},
   "outputs": [],
   "source": [
    "#scraping title from the given page\n",
    "repositories_title=[]\n",
    "\n",
    "title_tags=driver.find_elements(By.XPATH,'//span[@class=\"text-normal\"]')\n",
    "for i in title_tags[0:20]:\n",
    "    title=i.text\n",
    "    repositories_title.append(title)\n",
    "    "
   ]
  },
  {
   "cell_type": "code",
   "execution_count": 29,
   "id": "c9d89c8a",
   "metadata": {},
   "outputs": [
    {
     "data": {
      "text/plain": [
       "['cloudflare /',\n",
       " 'cypress-io /',\n",
       " 'Developer-Y /',\n",
       " 'nifanfa /',\n",
       " 'Taiga74164 /',\n",
       " 'optiv /',\n",
       " 'Cysharp /',\n",
       " 'DataTalksClub /',\n",
       " 'firstcontributions /',\n",
       " 'anaer /',\n",
       " 'pytorch /',\n",
       " 'acantril /',\n",
       " 'Ebazhanov /',\n",
       " 'MaaAssistantArknights /',\n",
       " 'google /',\n",
       " 'karanpratapsingh /',\n",
       " 'Asabeneh /',\n",
       " 'total-typescript /',\n",
       " 'XavierXiao /',\n",
       " 'Asabeneh /']"
      ]
     },
     "execution_count": 29,
     "metadata": {},
     "output_type": "execute_result"
    }
   ],
   "source": [
    "repositories_title"
   ]
  },
  {
   "cell_type": "code",
   "execution_count": 11,
   "id": "1c04a97e",
   "metadata": {},
   "outputs": [
    {
     "data": {
      "text/plain": [
       "25"
      ]
     },
     "execution_count": 11,
     "metadata": {},
     "output_type": "execute_result"
    }
   ],
   "source": [
    "len(repositories_title)"
   ]
  },
  {
   "cell_type": "code",
   "execution_count": 25,
   "id": "cac326f2",
   "metadata": {},
   "outputs": [],
   "source": [
    "#scraping Repository description from the given page\n",
    "Repository_description=[]\n",
    "\n",
    "description_tags=driver.find_elements(By.XPATH,'//p[@class=\"col-9 color-fg-muted my-1 pr-4\"]')\n",
    "for i in description_tags[0:20]:\n",
    "    description=i.text\n",
    "    Repository_description.append(description)"
   ]
  },
  {
   "cell_type": "code",
   "execution_count": 26,
   "id": "27c6e0ce",
   "metadata": {},
   "outputs": [
    {
     "data": {
      "text/plain": [
       "20"
      ]
     },
     "execution_count": 26,
     "metadata": {},
     "output_type": "execute_result"
    }
   ],
   "source": [
    "len(Repository_description)"
   ]
  },
  {
   "cell_type": "code",
   "execution_count": 27,
   "id": "283a905c",
   "metadata": {},
   "outputs": [
    {
     "data": {
      "text/plain": [
       "['The JavaScript / Wasm runtime that powers Cloudflare Workers',\n",
       " 'Fast, easy and reliable testing for anything that runs in a browser.',\n",
       " 'List of Computer Science courses with video lectures.',\n",
       " 'C# x64 operating system programming with the .NET native ahead-of-time compilation technology.',\n",
       " 'Akebi Genshin Cheat for OS/CN 3.0',\n",
       " 'Freeze is a payload toolkit for bypassing EDRs using suspended processes, direct syscalls, and alternative execution methods',\n",
       " 'Zero encoding extreme performance binary serializer for C#.',\n",
       " 'Free Data Engineering course!',\n",
       " '🚀✨ Help beginners to contribute to open source projects',\n",
       " '自用clash订阅链接',\n",
       " 'Tensors and Dynamic neural networks in Python with strong GPU acceleration',\n",
       " 'Standard and Advanced Demos for learn.cantrill.io courses',\n",
       " 'Full reference of LinkedIn answers 2022 for skill assessments (aws-lambda, rest-api, javascript, react, git, html, jquery, mongodb, java, Go, python, machine-learning, power-point) linkedin excel test lösungen, linkedin machine learning test LinkedIn test questions and answers',\n",
       " '《明日方舟》小助手，全日常一键长草！| An Arknights assistant compatible with EN, JP, KR, ZH_TW clients',\n",
       " 'GoogleTest - Google Testing and Mocking Framework',\n",
       " 'Learn how to design systems at scale and prepare for system design interviews',\n",
       " '30 days of Python programming challenge is a step-by-step guide to learn the Python programming language in 30 days. This challenge may take more than100 days, follow your own pace.',\n",
       " 'An interactive TypeScript tutorial for beginners',\n",
       " 'Implementation of Dreambooth (https://arxiv.org/abs/2208.12242) with Stable Diffusion',\n",
       " '30 days of JavaScript programming challenge is a step-by-step guide to learn JavaScript programming language in 30 days. This challenge may take more than 100 days, please just follow your own pace.']"
      ]
     },
     "execution_count": 27,
     "metadata": {},
     "output_type": "execute_result"
    }
   ],
   "source": [
    "Repository_description"
   ]
  },
  {
   "cell_type": "code",
   "execution_count": 23,
   "id": "0b34568b",
   "metadata": {},
   "outputs": [],
   "source": [
    "#scraping Contributors count from the given page\n",
    "Contributors_count=[]\n",
    "count_tags=driver.find_elements(By.XPATH,'//a[@class=\"Link--muted d-inline-block mr-3\"]')\n",
    "for i in count_tags[0:20]:\n",
    "    count=i.text\n",
    "    Contributors_count.append(count)\n",
    "    "
   ]
  },
  {
   "cell_type": "code",
   "execution_count": 24,
   "id": "6044b8ff",
   "metadata": {},
   "outputs": [
    {
     "data": {
      "text/plain": [
       "['3,118',\n",
       " '66',\n",
       " '40,822',\n",
       " '2,558',\n",
       " '43,713',\n",
       " '6,336',\n",
       " '584',\n",
       " '46',\n",
       " '299',\n",
       " '430',\n",
       " '521',\n",
       " '58',\n",
       " '491',\n",
       " '14',\n",
       " '6,241',\n",
       " '1,538',\n",
       " '27,103',\n",
       " '49,320',\n",
       " '1,040',\n",
       " '207']"
      ]
     },
     "execution_count": 24,
     "metadata": {},
     "output_type": "execute_result"
    }
   ],
   "source": [
    " Contributors_count"
   ]
  },
  {
   "cell_type": "code",
   "execution_count": 30,
   "id": "e6cf9334",
   "metadata": {},
   "outputs": [],
   "source": [
    "#scraping Language used from the given page\n",
    "Language_used=[]\n",
    "used_tags=driver.find_elements(By.XPATH,'//span[@class=\"d-inline-block ml-0 mr-3\"]')\n",
    "for i in used_tags[0:20]:\n",
    "    used=i.text\n",
    "    Language_used.append(used)\n",
    "    "
   ]
  },
  {
   "cell_type": "code",
   "execution_count": 31,
   "id": "68470ba6",
   "metadata": {},
   "outputs": [
    {
     "data": {
      "text/plain": [
       "['C++',\n",
       " 'JavaScript',\n",
       " 'C#',\n",
       " 'C++',\n",
       " 'Go',\n",
       " 'C#',\n",
       " 'Jupyter Notebook',\n",
       " 'JavaScript',\n",
       " 'C++',\n",
       " 'Python',\n",
       " 'C++',\n",
       " 'C++',\n",
       " 'Python',\n",
       " 'TypeScript',\n",
       " 'Jupyter Notebook',\n",
       " 'JavaScript',\n",
       " 'Python',\n",
       " 'Jupyter Notebook',\n",
       " 'Python',\n",
       " 'Go']"
      ]
     },
     "execution_count": 31,
     "metadata": {},
     "output_type": "execute_result"
    }
   ],
   "source": [
    "Language_used"
   ]
  },
  {
   "cell_type": "code",
   "execution_count": 32,
   "id": "29ec8ac6",
   "metadata": {},
   "outputs": [
    {
     "data": {
      "text/plain": [
       "20"
      ]
     },
     "execution_count": 32,
     "metadata": {},
     "output_type": "execute_result"
    }
   ],
   "source": [
    "len(Language_used)"
   ]
  },
  {
   "cell_type": "code",
   "execution_count": 33,
   "id": "2fed8524",
   "metadata": {},
   "outputs": [
    {
     "data": {
      "text/html": [
       "<div>\n",
       "<style scoped>\n",
       "    .dataframe tbody tr th:only-of-type {\n",
       "        vertical-align: middle;\n",
       "    }\n",
       "\n",
       "    .dataframe tbody tr th {\n",
       "        vertical-align: top;\n",
       "    }\n",
       "\n",
       "    .dataframe thead th {\n",
       "        text-align: right;\n",
       "    }\n",
       "</style>\n",
       "<table border=\"1\" class=\"dataframe\">\n",
       "  <thead>\n",
       "    <tr style=\"text-align: right;\">\n",
       "      <th></th>\n",
       "      <th>repositories_title</th>\n",
       "      <th>Repository_description</th>\n",
       "      <th>Contributors_count</th>\n",
       "      <th>Language_used</th>\n",
       "    </tr>\n",
       "  </thead>\n",
       "  <tbody>\n",
       "    <tr>\n",
       "      <th>0</th>\n",
       "      <td>cloudflare /</td>\n",
       "      <td>The JavaScript / Wasm runtime that powers Clou...</td>\n",
       "      <td>3,118</td>\n",
       "      <td>C++</td>\n",
       "    </tr>\n",
       "    <tr>\n",
       "      <th>1</th>\n",
       "      <td>cypress-io /</td>\n",
       "      <td>Fast, easy and reliable testing for anything t...</td>\n",
       "      <td>66</td>\n",
       "      <td>JavaScript</td>\n",
       "    </tr>\n",
       "    <tr>\n",
       "      <th>2</th>\n",
       "      <td>Developer-Y /</td>\n",
       "      <td>List of Computer Science courses with video le...</td>\n",
       "      <td>40,822</td>\n",
       "      <td>C#</td>\n",
       "    </tr>\n",
       "    <tr>\n",
       "      <th>3</th>\n",
       "      <td>nifanfa /</td>\n",
       "      <td>C# x64 operating system programming with the ....</td>\n",
       "      <td>2,558</td>\n",
       "      <td>C++</td>\n",
       "    </tr>\n",
       "    <tr>\n",
       "      <th>4</th>\n",
       "      <td>Taiga74164 /</td>\n",
       "      <td>Akebi Genshin Cheat for OS/CN 3.0</td>\n",
       "      <td>43,713</td>\n",
       "      <td>Go</td>\n",
       "    </tr>\n",
       "    <tr>\n",
       "      <th>5</th>\n",
       "      <td>optiv /</td>\n",
       "      <td>Freeze is a payload toolkit for bypassing EDRs...</td>\n",
       "      <td>6,336</td>\n",
       "      <td>C#</td>\n",
       "    </tr>\n",
       "    <tr>\n",
       "      <th>6</th>\n",
       "      <td>Cysharp /</td>\n",
       "      <td>Zero encoding extreme performance binary seria...</td>\n",
       "      <td>584</td>\n",
       "      <td>Jupyter Notebook</td>\n",
       "    </tr>\n",
       "    <tr>\n",
       "      <th>7</th>\n",
       "      <td>DataTalksClub /</td>\n",
       "      <td>Free Data Engineering course!</td>\n",
       "      <td>46</td>\n",
       "      <td>JavaScript</td>\n",
       "    </tr>\n",
       "    <tr>\n",
       "      <th>8</th>\n",
       "      <td>firstcontributions /</td>\n",
       "      <td>🚀✨ Help beginners to contribute to open source...</td>\n",
       "      <td>299</td>\n",
       "      <td>C++</td>\n",
       "    </tr>\n",
       "    <tr>\n",
       "      <th>9</th>\n",
       "      <td>anaer /</td>\n",
       "      <td>自用clash订阅链接</td>\n",
       "      <td>430</td>\n",
       "      <td>Python</td>\n",
       "    </tr>\n",
       "    <tr>\n",
       "      <th>10</th>\n",
       "      <td>pytorch /</td>\n",
       "      <td>Tensors and Dynamic neural networks in Python ...</td>\n",
       "      <td>521</td>\n",
       "      <td>C++</td>\n",
       "    </tr>\n",
       "    <tr>\n",
       "      <th>11</th>\n",
       "      <td>acantril /</td>\n",
       "      <td>Standard and Advanced Demos for learn.cantrill...</td>\n",
       "      <td>58</td>\n",
       "      <td>C++</td>\n",
       "    </tr>\n",
       "    <tr>\n",
       "      <th>12</th>\n",
       "      <td>Ebazhanov /</td>\n",
       "      <td>Full reference of LinkedIn answers 2022 for sk...</td>\n",
       "      <td>491</td>\n",
       "      <td>Python</td>\n",
       "    </tr>\n",
       "    <tr>\n",
       "      <th>13</th>\n",
       "      <td>MaaAssistantArknights /</td>\n",
       "      <td>《明日方舟》小助手，全日常一键长草！| An Arknights assistant com...</td>\n",
       "      <td>14</td>\n",
       "      <td>TypeScript</td>\n",
       "    </tr>\n",
       "    <tr>\n",
       "      <th>14</th>\n",
       "      <td>google /</td>\n",
       "      <td>GoogleTest - Google Testing and Mocking Framework</td>\n",
       "      <td>6,241</td>\n",
       "      <td>Jupyter Notebook</td>\n",
       "    </tr>\n",
       "    <tr>\n",
       "      <th>15</th>\n",
       "      <td>karanpratapsingh /</td>\n",
       "      <td>Learn how to design systems at scale and prepa...</td>\n",
       "      <td>1,538</td>\n",
       "      <td>JavaScript</td>\n",
       "    </tr>\n",
       "    <tr>\n",
       "      <th>16</th>\n",
       "      <td>Asabeneh /</td>\n",
       "      <td>30 days of Python programming challenge is a s...</td>\n",
       "      <td>27,103</td>\n",
       "      <td>Python</td>\n",
       "    </tr>\n",
       "    <tr>\n",
       "      <th>17</th>\n",
       "      <td>total-typescript /</td>\n",
       "      <td>An interactive TypeScript tutorial for beginners</td>\n",
       "      <td>49,320</td>\n",
       "      <td>Jupyter Notebook</td>\n",
       "    </tr>\n",
       "    <tr>\n",
       "      <th>18</th>\n",
       "      <td>XavierXiao /</td>\n",
       "      <td>Implementation of Dreambooth (https://arxiv.or...</td>\n",
       "      <td>1,040</td>\n",
       "      <td>Python</td>\n",
       "    </tr>\n",
       "    <tr>\n",
       "      <th>19</th>\n",
       "      <td>Asabeneh /</td>\n",
       "      <td>30 days of JavaScript programming challenge is...</td>\n",
       "      <td>207</td>\n",
       "      <td>Go</td>\n",
       "    </tr>\n",
       "  </tbody>\n",
       "</table>\n",
       "</div>"
      ],
      "text/plain": [
       "         repositories_title  \\\n",
       "0              cloudflare /   \n",
       "1              cypress-io /   \n",
       "2             Developer-Y /   \n",
       "3                 nifanfa /   \n",
       "4              Taiga74164 /   \n",
       "5                   optiv /   \n",
       "6                 Cysharp /   \n",
       "7           DataTalksClub /   \n",
       "8      firstcontributions /   \n",
       "9                   anaer /   \n",
       "10                pytorch /   \n",
       "11               acantril /   \n",
       "12              Ebazhanov /   \n",
       "13  MaaAssistantArknights /   \n",
       "14                 google /   \n",
       "15       karanpratapsingh /   \n",
       "16               Asabeneh /   \n",
       "17       total-typescript /   \n",
       "18             XavierXiao /   \n",
       "19               Asabeneh /   \n",
       "\n",
       "                               Repository_description Contributors_count  \\\n",
       "0   The JavaScript / Wasm runtime that powers Clou...              3,118   \n",
       "1   Fast, easy and reliable testing for anything t...                 66   \n",
       "2   List of Computer Science courses with video le...             40,822   \n",
       "3   C# x64 operating system programming with the ....              2,558   \n",
       "4                   Akebi Genshin Cheat for OS/CN 3.0             43,713   \n",
       "5   Freeze is a payload toolkit for bypassing EDRs...              6,336   \n",
       "6   Zero encoding extreme performance binary seria...                584   \n",
       "7                       Free Data Engineering course!                 46   \n",
       "8   🚀✨ Help beginners to contribute to open source...                299   \n",
       "9                                         自用clash订阅链接                430   \n",
       "10  Tensors and Dynamic neural networks in Python ...                521   \n",
       "11  Standard and Advanced Demos for learn.cantrill...                 58   \n",
       "12  Full reference of LinkedIn answers 2022 for sk...                491   \n",
       "13  《明日方舟》小助手，全日常一键长草！| An Arknights assistant com...                 14   \n",
       "14  GoogleTest - Google Testing and Mocking Framework              6,241   \n",
       "15  Learn how to design systems at scale and prepa...              1,538   \n",
       "16  30 days of Python programming challenge is a s...             27,103   \n",
       "17   An interactive TypeScript tutorial for beginners             49,320   \n",
       "18  Implementation of Dreambooth (https://arxiv.or...              1,040   \n",
       "19  30 days of JavaScript programming challenge is...                207   \n",
       "\n",
       "       Language_used  \n",
       "0                C++  \n",
       "1         JavaScript  \n",
       "2                 C#  \n",
       "3                C++  \n",
       "4                 Go  \n",
       "5                 C#  \n",
       "6   Jupyter Notebook  \n",
       "7         JavaScript  \n",
       "8                C++  \n",
       "9             Python  \n",
       "10               C++  \n",
       "11               C++  \n",
       "12            Python  \n",
       "13        TypeScript  \n",
       "14  Jupyter Notebook  \n",
       "15        JavaScript  \n",
       "16            Python  \n",
       "17  Jupyter Notebook  \n",
       "18            Python  \n",
       "19                Go  "
      ]
     },
     "execution_count": 33,
     "metadata": {},
     "output_type": "execute_result"
    }
   ],
   "source": [
    "#creating dataframe\n",
    "df=pd.DataFrame({'repositories_title':repositories_title,'Repository_description':Repository_description,'Contributors_count':Contributors_count,'Language_used':Language_used})\n",
    "df"
   ]
  },
  {
   "cell_type": "code",
   "execution_count": null,
   "id": "b11944e8",
   "metadata": {},
   "outputs": [],
   "source": []
  }
 ],
 "metadata": {
  "kernelspec": {
   "display_name": "Python 3 (ipykernel)",
   "language": "python",
   "name": "python3"
  },
  "language_info": {
   "codemirror_mode": {
    "name": "ipython",
    "version": 3
   },
   "file_extension": ".py",
   "mimetype": "text/x-python",
   "name": "python",
   "nbconvert_exporter": "python",
   "pygments_lexer": "ipython3",
   "version": "3.9.12"
  }
 },
 "nbformat": 4,
 "nbformat_minor": 5
}
